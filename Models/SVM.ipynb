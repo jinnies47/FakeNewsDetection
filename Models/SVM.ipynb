{
  "nbformat": 4,
  "nbformat_minor": 0,
  "metadata": {
    "colab": {
      "provenance": [],
      "gpuType": "T4"
    },
    "kernelspec": {
      "name": "python3",
      "display_name": "Python 3"
    },
    "language_info": {
      "name": "python"
    },
    "gpuClass": "standard"
  },
  "cells": [
    {
      "cell_type": "code",
      "source": [
        "import pandas as pd\n",
        "import re\n",
        "from nltk.stem.porter import PorterStemmer\n",
        "from sklearn.feature_extraction.text import TfidfVectorizer\n",
        "from sklearn.model_selection import train_test_split\n",
        "from sklearn import svm\n",
        "from sklearn.naive_bayes import MultinomialNB\n",
        "from sklearn.linear_model import LogisticRegressionCV\n",
        "from sklearn.metrics import classification_report, accuracy_score, confusion_matrix\n",
        "import pandas as pd\n",
        "import matplotlib.pyplot as plt\n",
        "import seaborn as sns\n",
        "import numpy as np \n",
        "import math,random"
      ],
      "metadata": {
        "id": "rdX1aezljms6"
      },
      "execution_count": null,
      "outputs": []
    },
    {
      "cell_type": "code",
      "execution_count": null,
      "metadata": {
        "colab": {
          "base_uri": "https://localhost:8080/"
        },
        "id": "zLTxoFyUi5a4",
        "outputId": "691e317e-73b9-4de9-bfd6-759e7920977d"
      },
      "outputs": [
        {
          "output_type": "stream",
          "name": "stdout",
          "text": [
            "Mounted at /content/drive/\n",
            "/content/drive/MyDrive/Kagsot\n"
          ]
        }
      ],
      "source": [
        "from google.colab import drive\n",
        "drive.mount('/content/drive/')\n",
        "%cd /content/drive/MyDrive/Kagsot/"
      ]
    },
    {
      "cell_type": "code",
      "source": [
        "tb=pd.read_csv('trainbasekagsot.csv')\n",
        "tbtm=pd.read_csv('test_base_&_train_metakagsot.csv')\n",
        "tm=pd.read_csv('test_metakagsot.csv')\n",
        "# r=pd.read_csv('realnews_collected_by_us.csv')\n",
        "# trst=pd.concat([tst,r])"
      ],
      "metadata": {
        "id": "dZayxOYeGe6G"
      },
      "execution_count": null,
      "outputs": []
    },
    {
      "cell_type": "code",
      "source": [
        "tr=pd.read_csv('subsetforbagkagsot.csv')\n",
        "tst=pd.read_csv('testforbagkagsot.csv')"
      ],
      "metadata": {
        "id": "ChoAen11lgqW"
      },
      "execution_count": null,
      "outputs": []
    },
    {
      "cell_type": "code",
      "source": [
        "# trb.head(2)\n",
        "# tbtm.head(2)\n",
        "tr=tr.dropna()\n",
        "tr['label']=tr['label'].astype(int)\n",
        "tst=tst.dropna()\n",
        "tst['label']=tst['label'].astype(int)\n"
      ],
      "metadata": {
        "id": "yP3EcUq2ZxlG",
        "colab": {
          "base_uri": "https://localhost:8080/"
        },
        "outputId": "989ea123-c9ee-4a7a-d835-4151aac121d3"
      },
      "execution_count": null,
      "outputs": [
        {
          "output_type": "stream",
          "name": "stderr",
          "text": [
            "<ipython-input-4-280cfc754ed4>:4: SettingWithCopyWarning: \n",
            "A value is trying to be set on a copy of a slice from a DataFrame.\n",
            "Try using .loc[row_indexer,col_indexer] = value instead\n",
            "\n",
            "See the caveats in the documentation: https://pandas.pydata.org/pandas-docs/stable/user_guide/indexing.html#returning-a-view-versus-a-copy\n",
            "  tr['label']=tr['label'].astype(int)\n"
          ]
        }
      ]
    },
    {
      "cell_type": "code",
      "source": [
        "tr.head(2)"
      ],
      "metadata": {
        "colab": {
          "base_uri": "https://localhost:8080/",
          "height": 112
        },
        "id": "6q84a1zqCFRr",
        "outputId": "30315450-42a2-4da2-ec34-c639c94e21bd"
      },
      "execution_count": null,
      "outputs": [
        {
          "output_type": "execute_result",
          "data": {
            "text/plain": [
              "                                                text  label\n",
              "0  Major Voter Fraud Already Running Rampant Agai...      1\n",
              "2  Alaska, Reliant on Air Transit, Faces Pilot Sh...      0"
            ],
            "text/html": [
              "\n",
              "  <div id=\"df-a5883370-8cee-4b6e-bb6e-a3128b131a34\">\n",
              "    <div class=\"colab-df-container\">\n",
              "      <div>\n",
              "<style scoped>\n",
              "    .dataframe tbody tr th:only-of-type {\n",
              "        vertical-align: middle;\n",
              "    }\n",
              "\n",
              "    .dataframe tbody tr th {\n",
              "        vertical-align: top;\n",
              "    }\n",
              "\n",
              "    .dataframe thead th {\n",
              "        text-align: right;\n",
              "    }\n",
              "</style>\n",
              "<table border=\"1\" class=\"dataframe\">\n",
              "  <thead>\n",
              "    <tr style=\"text-align: right;\">\n",
              "      <th></th>\n",
              "      <th>text</th>\n",
              "      <th>label</th>\n",
              "    </tr>\n",
              "  </thead>\n",
              "  <tbody>\n",
              "    <tr>\n",
              "      <th>0</th>\n",
              "      <td>Major Voter Fraud Already Running Rampant Agai...</td>\n",
              "      <td>1</td>\n",
              "    </tr>\n",
              "    <tr>\n",
              "      <th>2</th>\n",
              "      <td>Alaska, Reliant on Air Transit, Faces Pilot Sh...</td>\n",
              "      <td>0</td>\n",
              "    </tr>\n",
              "  </tbody>\n",
              "</table>\n",
              "</div>\n",
              "      <button class=\"colab-df-convert\" onclick=\"convertToInteractive('df-a5883370-8cee-4b6e-bb6e-a3128b131a34')\"\n",
              "              title=\"Convert this dataframe to an interactive table.\"\n",
              "              style=\"display:none;\">\n",
              "        \n",
              "  <svg xmlns=\"http://www.w3.org/2000/svg\" height=\"24px\"viewBox=\"0 0 24 24\"\n",
              "       width=\"24px\">\n",
              "    <path d=\"M0 0h24v24H0V0z\" fill=\"none\"/>\n",
              "    <path d=\"M18.56 5.44l.94 2.06.94-2.06 2.06-.94-2.06-.94-.94-2.06-.94 2.06-2.06.94zm-11 1L8.5 8.5l.94-2.06 2.06-.94-2.06-.94L8.5 2.5l-.94 2.06-2.06.94zm10 10l.94 2.06.94-2.06 2.06-.94-2.06-.94-.94-2.06-.94 2.06-2.06.94z\"/><path d=\"M17.41 7.96l-1.37-1.37c-.4-.4-.92-.59-1.43-.59-.52 0-1.04.2-1.43.59L10.3 9.45l-7.72 7.72c-.78.78-.78 2.05 0 2.83L4 21.41c.39.39.9.59 1.41.59.51 0 1.02-.2 1.41-.59l7.78-7.78 2.81-2.81c.8-.78.8-2.07 0-2.86zM5.41 20L4 18.59l7.72-7.72 1.47 1.35L5.41 20z\"/>\n",
              "  </svg>\n",
              "      </button>\n",
              "      \n",
              "  <style>\n",
              "    .colab-df-container {\n",
              "      display:flex;\n",
              "      flex-wrap:wrap;\n",
              "      gap: 12px;\n",
              "    }\n",
              "\n",
              "    .colab-df-convert {\n",
              "      background-color: #E8F0FE;\n",
              "      border: none;\n",
              "      border-radius: 50%;\n",
              "      cursor: pointer;\n",
              "      display: none;\n",
              "      fill: #1967D2;\n",
              "      height: 32px;\n",
              "      padding: 0 0 0 0;\n",
              "      width: 32px;\n",
              "    }\n",
              "\n",
              "    .colab-df-convert:hover {\n",
              "      background-color: #E2EBFA;\n",
              "      box-shadow: 0px 1px 2px rgba(60, 64, 67, 0.3), 0px 1px 3px 1px rgba(60, 64, 67, 0.15);\n",
              "      fill: #174EA6;\n",
              "    }\n",
              "\n",
              "    [theme=dark] .colab-df-convert {\n",
              "      background-color: #3B4455;\n",
              "      fill: #D2E3FC;\n",
              "    }\n",
              "\n",
              "    [theme=dark] .colab-df-convert:hover {\n",
              "      background-color: #434B5C;\n",
              "      box-shadow: 0px 1px 3px 1px rgba(0, 0, 0, 0.15);\n",
              "      filter: drop-shadow(0px 1px 2px rgba(0, 0, 0, 0.3));\n",
              "      fill: #FFFFFF;\n",
              "    }\n",
              "  </style>\n",
              "\n",
              "      <script>\n",
              "        const buttonEl =\n",
              "          document.querySelector('#df-a5883370-8cee-4b6e-bb6e-a3128b131a34 button.colab-df-convert');\n",
              "        buttonEl.style.display =\n",
              "          google.colab.kernel.accessAllowed ? 'block' : 'none';\n",
              "\n",
              "        async function convertToInteractive(key) {\n",
              "          const element = document.querySelector('#df-a5883370-8cee-4b6e-bb6e-a3128b131a34');\n",
              "          const dataTable =\n",
              "            await google.colab.kernel.invokeFunction('convertToInteractive',\n",
              "                                                     [key], {});\n",
              "          if (!dataTable) return;\n",
              "\n",
              "          const docLinkHtml = 'Like what you see? Visit the ' +\n",
              "            '<a target=\"_blank\" href=https://colab.research.google.com/notebooks/data_table.ipynb>data table notebook</a>'\n",
              "            + ' to learn more about interactive tables.';\n",
              "          element.innerHTML = '';\n",
              "          dataTable['output_type'] = 'display_data';\n",
              "          await google.colab.output.renderOutput(dataTable, element);\n",
              "          const docLink = document.createElement('div');\n",
              "          docLink.innerHTML = docLinkHtml;\n",
              "          element.appendChild(docLink);\n",
              "        }\n",
              "      </script>\n",
              "    </div>\n",
              "  </div>\n",
              "  "
            ]
          },
          "metadata": {},
          "execution_count": 22
        }
      ]
    },
    {
      "cell_type": "code",
      "source": [
        "sz=len(tr)\n",
        "def modifydatabag(t1):\n",
        "  res=[]\n",
        "  a=int(sz*0.80)\n",
        "  start=0\n",
        "  end=len(t1)\n",
        "  for i in range(a):\n",
        "    res.append(t1.iloc[random.randrange(start,end)])\n",
        "  return res\n",
        "#pass only test dataset for modification\n",
        "data=modifydatabag(tr)\n"
      ],
      "metadata": {
        "id": "JpiDqTdhZyuv"
      },
      "execution_count": null,
      "outputs": []
    },
    {
      "cell_type": "code",
      "source": [
        "\n",
        "df =pd.DataFrame(data,columns=['text','label'])\n",
        "df['title_text']=df['text']\n",
        "df.head(2)"
      ],
      "metadata": {
        "colab": {
          "base_uri": "https://localhost:8080/",
          "height": 112
        },
        "id": "e0D2IE1vlW70",
        "outputId": "55f76dc6-c44e-496e-ce07-280af873f240"
      },
      "execution_count": null,
      "outputs": [
        {
          "output_type": "execute_result",
          "data": {
            "text/plain": [
              "                                                    text  label  \\\n",
              "15574  Saudi Arabia Warns of Economic Fallout if Cong...      0   \n",
              "10785  Exclusive—Sarah Palin Condemns ’Sick Audacity’...      1   \n",
              "\n",
              "                                              title_text  \n",
              "15574  Saudi Arabia Warns of Economic Fallout if Cong...  \n",
              "10785  Exclusive—Sarah Palin Condemns ’Sick Audacity’...  "
            ],
            "text/html": [
              "\n",
              "  <div id=\"df-fe095d7e-7143-4447-b230-205c28645073\">\n",
              "    <div class=\"colab-df-container\">\n",
              "      <div>\n",
              "<style scoped>\n",
              "    .dataframe tbody tr th:only-of-type {\n",
              "        vertical-align: middle;\n",
              "    }\n",
              "\n",
              "    .dataframe tbody tr th {\n",
              "        vertical-align: top;\n",
              "    }\n",
              "\n",
              "    .dataframe thead th {\n",
              "        text-align: right;\n",
              "    }\n",
              "</style>\n",
              "<table border=\"1\" class=\"dataframe\">\n",
              "  <thead>\n",
              "    <tr style=\"text-align: right;\">\n",
              "      <th></th>\n",
              "      <th>text</th>\n",
              "      <th>label</th>\n",
              "      <th>title_text</th>\n",
              "    </tr>\n",
              "  </thead>\n",
              "  <tbody>\n",
              "    <tr>\n",
              "      <th>15574</th>\n",
              "      <td>Saudi Arabia Warns of Economic Fallout if Cong...</td>\n",
              "      <td>0</td>\n",
              "      <td>Saudi Arabia Warns of Economic Fallout if Cong...</td>\n",
              "    </tr>\n",
              "    <tr>\n",
              "      <th>10785</th>\n",
              "      <td>Exclusive—Sarah Palin Condemns ’Sick Audacity’...</td>\n",
              "      <td>1</td>\n",
              "      <td>Exclusive—Sarah Palin Condemns ’Sick Audacity’...</td>\n",
              "    </tr>\n",
              "  </tbody>\n",
              "</table>\n",
              "</div>\n",
              "      <button class=\"colab-df-convert\" onclick=\"convertToInteractive('df-fe095d7e-7143-4447-b230-205c28645073')\"\n",
              "              title=\"Convert this dataframe to an interactive table.\"\n",
              "              style=\"display:none;\">\n",
              "        \n",
              "  <svg xmlns=\"http://www.w3.org/2000/svg\" height=\"24px\"viewBox=\"0 0 24 24\"\n",
              "       width=\"24px\">\n",
              "    <path d=\"M0 0h24v24H0V0z\" fill=\"none\"/>\n",
              "    <path d=\"M18.56 5.44l.94 2.06.94-2.06 2.06-.94-2.06-.94-.94-2.06-.94 2.06-2.06.94zm-11 1L8.5 8.5l.94-2.06 2.06-.94-2.06-.94L8.5 2.5l-.94 2.06-2.06.94zm10 10l.94 2.06.94-2.06 2.06-.94-2.06-.94-.94-2.06-.94 2.06-2.06.94z\"/><path d=\"M17.41 7.96l-1.37-1.37c-.4-.4-.92-.59-1.43-.59-.52 0-1.04.2-1.43.59L10.3 9.45l-7.72 7.72c-.78.78-.78 2.05 0 2.83L4 21.41c.39.39.9.59 1.41.59.51 0 1.02-.2 1.41-.59l7.78-7.78 2.81-2.81c.8-.78.8-2.07 0-2.86zM5.41 20L4 18.59l7.72-7.72 1.47 1.35L5.41 20z\"/>\n",
              "  </svg>\n",
              "      </button>\n",
              "      \n",
              "  <style>\n",
              "    .colab-df-container {\n",
              "      display:flex;\n",
              "      flex-wrap:wrap;\n",
              "      gap: 12px;\n",
              "    }\n",
              "\n",
              "    .colab-df-convert {\n",
              "      background-color: #E8F0FE;\n",
              "      border: none;\n",
              "      border-radius: 50%;\n",
              "      cursor: pointer;\n",
              "      display: none;\n",
              "      fill: #1967D2;\n",
              "      height: 32px;\n",
              "      padding: 0 0 0 0;\n",
              "      width: 32px;\n",
              "    }\n",
              "\n",
              "    .colab-df-convert:hover {\n",
              "      background-color: #E2EBFA;\n",
              "      box-shadow: 0px 1px 2px rgba(60, 64, 67, 0.3), 0px 1px 3px 1px rgba(60, 64, 67, 0.15);\n",
              "      fill: #174EA6;\n",
              "    }\n",
              "\n",
              "    [theme=dark] .colab-df-convert {\n",
              "      background-color: #3B4455;\n",
              "      fill: #D2E3FC;\n",
              "    }\n",
              "\n",
              "    [theme=dark] .colab-df-convert:hover {\n",
              "      background-color: #434B5C;\n",
              "      box-shadow: 0px 1px 3px 1px rgba(0, 0, 0, 0.15);\n",
              "      filter: drop-shadow(0px 1px 2px rgba(0, 0, 0, 0.3));\n",
              "      fill: #FFFFFF;\n",
              "    }\n",
              "  </style>\n",
              "\n",
              "      <script>\n",
              "        const buttonEl =\n",
              "          document.querySelector('#df-fe095d7e-7143-4447-b230-205c28645073 button.colab-df-convert');\n",
              "        buttonEl.style.display =\n",
              "          google.colab.kernel.accessAllowed ? 'block' : 'none';\n",
              "\n",
              "        async function convertToInteractive(key) {\n",
              "          const element = document.querySelector('#df-fe095d7e-7143-4447-b230-205c28645073');\n",
              "          const dataTable =\n",
              "            await google.colab.kernel.invokeFunction('convertToInteractive',\n",
              "                                                     [key], {});\n",
              "          if (!dataTable) return;\n",
              "\n",
              "          const docLinkHtml = 'Like what you see? Visit the ' +\n",
              "            '<a target=\"_blank\" href=https://colab.research.google.com/notebooks/data_table.ipynb>data table notebook</a>'\n",
              "            + ' to learn more about interactive tables.';\n",
              "          element.innerHTML = '';\n",
              "          dataTable['output_type'] = 'display_data';\n",
              "          await google.colab.output.renderOutput(dataTable, element);\n",
              "          const docLink = document.createElement('div');\n",
              "          docLink.innerHTML = docLinkHtml;\n",
              "          element.appendChild(docLink);\n",
              "        }\n",
              "      </script>\n",
              "    </div>\n",
              "  </div>\n",
              "  "
            ]
          },
          "metadata": {},
          "execution_count": 40
        }
      ]
    },
    {
      "cell_type": "code",
      "source": [
        "df=tr"
      ],
      "metadata": {
        "id": "oBAQsBfYsj98"
      },
      "execution_count": null,
      "outputs": []
    },
    {
      "cell_type": "code",
      "source": [
        "tb=tb.dropna()\n",
        "tbtm=tbtm.dropna()\n",
        "tm=tm.dropna()"
      ],
      "metadata": {
        "id": "EdwWKAcJwh4q"
      },
      "execution_count": null,
      "outputs": []
    },
    {
      "cell_type": "code",
      "source": [
        "tb.head(22)"
      ],
      "metadata": {
        "colab": {
          "base_uri": "https://localhost:8080/",
          "height": 739
        },
        "id": "lyCsJ3vdwup0",
        "outputId": "ba631e1e-a3e3-49e9-c8ab-eca58bee027d"
      },
      "execution_count": null,
      "outputs": [
        {
          "output_type": "execute_result",
          "data": {
            "text/plain": [
              "                                                 text  label  \\\n",
              "0   Government Gave Brown University $5 Million to...      1   \n",
              "1   TOP BRITISH GENERAL WARNS OF NUCLEAR WAR WITH ...      1   \n",
              "2   As Race Tightens, Clinton Campaign Is Counting...      1   \n",
              "3   Trump’s Inaugural Parade Lineup: Border Patrol...      0   \n",
              "4   Tim Kaine’s Son Arrested for Alleged Role in M...      0   \n",
              "5   Donald Trump Defeats Hillary Clinton, Wins 201...      1   \n",
              "6   WATCH: Trump Promises To ‘Teach’ Military Expe...      1   \n",
              "7   Ruined Serbian Orthodox Church Was a Landmark ...      0   \n",
              "8   Louisiana Floods Lead to 8 Deaths - The New Yo...      0   \n",
              "9   Show biz: Business and breakthroughs Show biz:...      1   \n",
              "11  Reviled by Many Russians, Mikhail Gorbachev St...      0   \n",
              "12  ISIS Is Massacring Mosul Civilians as Troops A...      0   \n",
              "13  Comedy Central Cancels Larry Wilmore’s Late-Ni...      0   \n",
              "14  The Working Class Won The Election — Paul Crai...      0   \n",
              "15  Anthony Weiner, Who Always Had Something to Sa...      0   \n",
              "16  Illegal Alien Charged in Drunk Driving Crash t...      0   \n",
              "17  Aides: Trump Could Repeal DACA Without Legisla...      0   \n",
              "18  Lindsey Graham: ’Democrats Cleaned Our Clock’ ...      1   \n",
              "19  Isis Leader ‘hiding in Mosul’ as Troops Storm ...      1   \n",
              "20  Panicked Borrowers, and the Education Departme...      0   \n",
              "22  Credibility of Chris Christie’s ‘Enforcer’ Cha...      0   \n",
              "23  Even As Stocks Push Higher, Clouds Gather For ...      1   \n",
              "\n",
              "                                           title_text  \n",
              "0   government gave brown university 5 million to ...  \n",
              "1   top british general warns of nuclear war with ...  \n",
              "2   as race tightens clinton campaign is counting ...  \n",
              "3   trumps inaugural parade lineup border patrol p...  \n",
              "4   tim kaines son arrested for alleged role in mi...  \n",
              "5   donald trump defeats hillary clinton wins 2016...  \n",
              "6   watch trump promises to teach military experts...  \n",
              "7   ruined serbian orthodox church was a landmark ...  \n",
              "8   louisiana floods lead to 8 deaths  the new yor...  \n",
              "9   show biz business and breakthroughs show biz b...  \n",
              "11  reviled by many russians mikhail gorbachev sti...  \n",
              "12  isis is massacring mosul civilians as troops a...  \n",
              "13  comedy central cancels larry wilmores latenigh...  \n",
              "14  the working class won the election  paul craig...  \n",
              "15  anthony weiner who always had something to say...  \n",
              "16  illegal alien charged in drunk driving crash t...  \n",
              "17  aides trump could repeal daca without legislat...  \n",
              "18  lindsey graham democrats cleaned our clock on ...  \n",
              "19  isis leader hiding in mosul as troops storm ir...  \n",
              "20  panicked borrowers and the education departmen...  \n",
              "22  credibility of chris christies enforcer challe...  \n",
              "23  even as stocks push higher clouds gather for t...  "
            ],
            "text/html": [
              "\n",
              "  <div id=\"df-a840b564-5860-4cf6-8ea5-241650ff82c4\">\n",
              "    <div class=\"colab-df-container\">\n",
              "      <div>\n",
              "<style scoped>\n",
              "    .dataframe tbody tr th:only-of-type {\n",
              "        vertical-align: middle;\n",
              "    }\n",
              "\n",
              "    .dataframe tbody tr th {\n",
              "        vertical-align: top;\n",
              "    }\n",
              "\n",
              "    .dataframe thead th {\n",
              "        text-align: right;\n",
              "    }\n",
              "</style>\n",
              "<table border=\"1\" class=\"dataframe\">\n",
              "  <thead>\n",
              "    <tr style=\"text-align: right;\">\n",
              "      <th></th>\n",
              "      <th>text</th>\n",
              "      <th>label</th>\n",
              "      <th>title_text</th>\n",
              "    </tr>\n",
              "  </thead>\n",
              "  <tbody>\n",
              "    <tr>\n",
              "      <th>0</th>\n",
              "      <td>Government Gave Brown University $5 Million to...</td>\n",
              "      <td>1</td>\n",
              "      <td>government gave brown university 5 million to ...</td>\n",
              "    </tr>\n",
              "    <tr>\n",
              "      <th>1</th>\n",
              "      <td>TOP BRITISH GENERAL WARNS OF NUCLEAR WAR WITH ...</td>\n",
              "      <td>1</td>\n",
              "      <td>top british general warns of nuclear war with ...</td>\n",
              "    </tr>\n",
              "    <tr>\n",
              "      <th>2</th>\n",
              "      <td>As Race Tightens, Clinton Campaign Is Counting...</td>\n",
              "      <td>1</td>\n",
              "      <td>as race tightens clinton campaign is counting ...</td>\n",
              "    </tr>\n",
              "    <tr>\n",
              "      <th>3</th>\n",
              "      <td>Trump’s Inaugural Parade Lineup: Border Patrol...</td>\n",
              "      <td>0</td>\n",
              "      <td>trumps inaugural parade lineup border patrol p...</td>\n",
              "    </tr>\n",
              "    <tr>\n",
              "      <th>4</th>\n",
              "      <td>Tim Kaine’s Son Arrested for Alleged Role in M...</td>\n",
              "      <td>0</td>\n",
              "      <td>tim kaines son arrested for alleged role in mi...</td>\n",
              "    </tr>\n",
              "    <tr>\n",
              "      <th>5</th>\n",
              "      <td>Donald Trump Defeats Hillary Clinton, Wins 201...</td>\n",
              "      <td>1</td>\n",
              "      <td>donald trump defeats hillary clinton wins 2016...</td>\n",
              "    </tr>\n",
              "    <tr>\n",
              "      <th>6</th>\n",
              "      <td>WATCH: Trump Promises To ‘Teach’ Military Expe...</td>\n",
              "      <td>1</td>\n",
              "      <td>watch trump promises to teach military experts...</td>\n",
              "    </tr>\n",
              "    <tr>\n",
              "      <th>7</th>\n",
              "      <td>Ruined Serbian Orthodox Church Was a Landmark ...</td>\n",
              "      <td>0</td>\n",
              "      <td>ruined serbian orthodox church was a landmark ...</td>\n",
              "    </tr>\n",
              "    <tr>\n",
              "      <th>8</th>\n",
              "      <td>Louisiana Floods Lead to 8 Deaths - The New Yo...</td>\n",
              "      <td>0</td>\n",
              "      <td>louisiana floods lead to 8 deaths  the new yor...</td>\n",
              "    </tr>\n",
              "    <tr>\n",
              "      <th>9</th>\n",
              "      <td>Show biz: Business and breakthroughs Show biz:...</td>\n",
              "      <td>1</td>\n",
              "      <td>show biz business and breakthroughs show biz b...</td>\n",
              "    </tr>\n",
              "    <tr>\n",
              "      <th>11</th>\n",
              "      <td>Reviled by Many Russians, Mikhail Gorbachev St...</td>\n",
              "      <td>0</td>\n",
              "      <td>reviled by many russians mikhail gorbachev sti...</td>\n",
              "    </tr>\n",
              "    <tr>\n",
              "      <th>12</th>\n",
              "      <td>ISIS Is Massacring Mosul Civilians as Troops A...</td>\n",
              "      <td>0</td>\n",
              "      <td>isis is massacring mosul civilians as troops a...</td>\n",
              "    </tr>\n",
              "    <tr>\n",
              "      <th>13</th>\n",
              "      <td>Comedy Central Cancels Larry Wilmore’s Late-Ni...</td>\n",
              "      <td>0</td>\n",
              "      <td>comedy central cancels larry wilmores latenigh...</td>\n",
              "    </tr>\n",
              "    <tr>\n",
              "      <th>14</th>\n",
              "      <td>The Working Class Won The Election — Paul Crai...</td>\n",
              "      <td>0</td>\n",
              "      <td>the working class won the election  paul craig...</td>\n",
              "    </tr>\n",
              "    <tr>\n",
              "      <th>15</th>\n",
              "      <td>Anthony Weiner, Who Always Had Something to Sa...</td>\n",
              "      <td>0</td>\n",
              "      <td>anthony weiner who always had something to say...</td>\n",
              "    </tr>\n",
              "    <tr>\n",
              "      <th>16</th>\n",
              "      <td>Illegal Alien Charged in Drunk Driving Crash t...</td>\n",
              "      <td>0</td>\n",
              "      <td>illegal alien charged in drunk driving crash t...</td>\n",
              "    </tr>\n",
              "    <tr>\n",
              "      <th>17</th>\n",
              "      <td>Aides: Trump Could Repeal DACA Without Legisla...</td>\n",
              "      <td>0</td>\n",
              "      <td>aides trump could repeal daca without legislat...</td>\n",
              "    </tr>\n",
              "    <tr>\n",
              "      <th>18</th>\n",
              "      <td>Lindsey Graham: ’Democrats Cleaned Our Clock’ ...</td>\n",
              "      <td>1</td>\n",
              "      <td>lindsey graham democrats cleaned our clock on ...</td>\n",
              "    </tr>\n",
              "    <tr>\n",
              "      <th>19</th>\n",
              "      <td>Isis Leader ‘hiding in Mosul’ as Troops Storm ...</td>\n",
              "      <td>1</td>\n",
              "      <td>isis leader hiding in mosul as troops storm ir...</td>\n",
              "    </tr>\n",
              "    <tr>\n",
              "      <th>20</th>\n",
              "      <td>Panicked Borrowers, and the Education Departme...</td>\n",
              "      <td>0</td>\n",
              "      <td>panicked borrowers and the education departmen...</td>\n",
              "    </tr>\n",
              "    <tr>\n",
              "      <th>22</th>\n",
              "      <td>Credibility of Chris Christie’s ‘Enforcer’ Cha...</td>\n",
              "      <td>0</td>\n",
              "      <td>credibility of chris christies enforcer challe...</td>\n",
              "    </tr>\n",
              "    <tr>\n",
              "      <th>23</th>\n",
              "      <td>Even As Stocks Push Higher, Clouds Gather For ...</td>\n",
              "      <td>1</td>\n",
              "      <td>even as stocks push higher clouds gather for t...</td>\n",
              "    </tr>\n",
              "  </tbody>\n",
              "</table>\n",
              "</div>\n",
              "      <button class=\"colab-df-convert\" onclick=\"convertToInteractive('df-a840b564-5860-4cf6-8ea5-241650ff82c4')\"\n",
              "              title=\"Convert this dataframe to an interactive table.\"\n",
              "              style=\"display:none;\">\n",
              "        \n",
              "  <svg xmlns=\"http://www.w3.org/2000/svg\" height=\"24px\"viewBox=\"0 0 24 24\"\n",
              "       width=\"24px\">\n",
              "    <path d=\"M0 0h24v24H0V0z\" fill=\"none\"/>\n",
              "    <path d=\"M18.56 5.44l.94 2.06.94-2.06 2.06-.94-2.06-.94-.94-2.06-.94 2.06-2.06.94zm-11 1L8.5 8.5l.94-2.06 2.06-.94-2.06-.94L8.5 2.5l-.94 2.06-2.06.94zm10 10l.94 2.06.94-2.06 2.06-.94-2.06-.94-.94-2.06-.94 2.06-2.06.94z\"/><path d=\"M17.41 7.96l-1.37-1.37c-.4-.4-.92-.59-1.43-.59-.52 0-1.04.2-1.43.59L10.3 9.45l-7.72 7.72c-.78.78-.78 2.05 0 2.83L4 21.41c.39.39.9.59 1.41.59.51 0 1.02-.2 1.41-.59l7.78-7.78 2.81-2.81c.8-.78.8-2.07 0-2.86zM5.41 20L4 18.59l7.72-7.72 1.47 1.35L5.41 20z\"/>\n",
              "  </svg>\n",
              "      </button>\n",
              "      \n",
              "  <style>\n",
              "    .colab-df-container {\n",
              "      display:flex;\n",
              "      flex-wrap:wrap;\n",
              "      gap: 12px;\n",
              "    }\n",
              "\n",
              "    .colab-df-convert {\n",
              "      background-color: #E8F0FE;\n",
              "      border: none;\n",
              "      border-radius: 50%;\n",
              "      cursor: pointer;\n",
              "      display: none;\n",
              "      fill: #1967D2;\n",
              "      height: 32px;\n",
              "      padding: 0 0 0 0;\n",
              "      width: 32px;\n",
              "    }\n",
              "\n",
              "    .colab-df-convert:hover {\n",
              "      background-color: #E2EBFA;\n",
              "      box-shadow: 0px 1px 2px rgba(60, 64, 67, 0.3), 0px 1px 3px 1px rgba(60, 64, 67, 0.15);\n",
              "      fill: #174EA6;\n",
              "    }\n",
              "\n",
              "    [theme=dark] .colab-df-convert {\n",
              "      background-color: #3B4455;\n",
              "      fill: #D2E3FC;\n",
              "    }\n",
              "\n",
              "    [theme=dark] .colab-df-convert:hover {\n",
              "      background-color: #434B5C;\n",
              "      box-shadow: 0px 1px 3px 1px rgba(0, 0, 0, 0.15);\n",
              "      filter: drop-shadow(0px 1px 2px rgba(0, 0, 0, 0.3));\n",
              "      fill: #FFFFFF;\n",
              "    }\n",
              "  </style>\n",
              "\n",
              "      <script>\n",
              "        const buttonEl =\n",
              "          document.querySelector('#df-a840b564-5860-4cf6-8ea5-241650ff82c4 button.colab-df-convert');\n",
              "        buttonEl.style.display =\n",
              "          google.colab.kernel.accessAllowed ? 'block' : 'none';\n",
              "\n",
              "        async function convertToInteractive(key) {\n",
              "          const element = document.querySelector('#df-a840b564-5860-4cf6-8ea5-241650ff82c4');\n",
              "          const dataTable =\n",
              "            await google.colab.kernel.invokeFunction('convertToInteractive',\n",
              "                                                     [key], {});\n",
              "          if (!dataTable) return;\n",
              "\n",
              "          const docLinkHtml = 'Like what you see? Visit the ' +\n",
              "            '<a target=\"_blank\" href=https://colab.research.google.com/notebooks/data_table.ipynb>data table notebook</a>'\n",
              "            + ' to learn more about interactive tables.';\n",
              "          element.innerHTML = '';\n",
              "          dataTable['output_type'] = 'display_data';\n",
              "          await google.colab.output.renderOutput(dataTable, element);\n",
              "          const docLink = document.createElement('div');\n",
              "          docLink.innerHTML = docLinkHtml;\n",
              "          element.appendChild(docLink);\n",
              "        }\n",
              "      </script>\n",
              "    </div>\n",
              "  </div>\n",
              "  "
            ]
          },
          "metadata": {},
          "execution_count": 22
        }
      ]
    },
    {
      "cell_type": "code",
      "source": [
        "\n",
        "def make_confusion_matrix(cf, group_names=None, categories='auto', count=True, percent=True, cbar=True, xyticks=True,\n",
        "                          xyplotlabels=True,\n",
        "                          sum_stats=True,\n",
        "                          figsize=None,\n",
        "                          cmap='Blues',\n",
        "                          title=None):\n",
        "\n",
        "    # CODE TO GENERATE TEXT INSIDE EACH SQUARE\n",
        "    blanks = ['' for i in range(cf.size)]\n",
        "\n",
        "    if group_names and len(group_names)==cf.size:\n",
        "        group_labels = [\"{}\\n\".format(value) for value in group_names]\n",
        "    else:\n",
        "        group_labels = blanks\n",
        "\n",
        "    if count:\n",
        "        group_counts = [\"{0:0.0f}\\n\".format(value) for value in cf.flatten()]\n",
        "    else:\n",
        "        group_counts = blanks\n",
        "\n",
        "    if percent:\n",
        "        group_percentages = [\"{0:.2%}\".format(value) for value in cf.flatten()/np.sum(cf)]\n",
        "    else:\n",
        "        group_percentages = blanks\n",
        "\n",
        "    box_labels = [f\"{v1}{v2}{v3}\".strip() for v1, v2, v3 in zip(group_labels,group_counts,group_percentages)]\n",
        "    box_labels = np.asarray(box_labels).reshape(cf.shape[0],cf.shape[1])\n",
        "\n",
        "    # SET FIGURE PARAMETERS ACCORDING TO OTHER ARGUMENTS\n",
        "    if figsize==None:\n",
        "        #Get default figure size if not set\n",
        "        figsize = plt.rcParams.get('figure.figsize')\n",
        "    if xyticks==False:\n",
        "        #Do not show categories if xyticks is False\n",
        "        categories=False\n",
        "\n",
        "    # MAKE THE HEATMAP VISUALIZATION\n",
        "    plt.figure(figsize=(8,6))\n",
        "    sns.heatmap(cf,annot=box_labels,fmt=\"\",cmap=cmap,cbar=cbar,xticklabels=categories,yticklabels=categories)\n",
        "    plt.ylabel('True label')\n",
        "    plt.xlabel('Predicted label')\n",
        "    plt.show()\n",
        "\n",
        "    if title:\n",
        "        plt.title(title)\n",
        "\n",
        "\n",
        "df=tb\n",
        "df_test=tm\n",
        "\n",
        "df['title_text']=df['text']\n",
        "df_test['title_text']=df_test['text']\n",
        "def preprocessor(text):\n",
        "    text=str(text)\n",
        "    text = re.sub('<[^>]*>', '', text)\n",
        "    text = re.sub(r'[^\\w\\s]','', text)\n",
        "    text = text.lower()\n",
        "    \n",
        "\n",
        "    return text\n",
        "\n",
        "df['title_text'] = df['title_text'].apply(preprocessor)\n",
        "df_test['title_text'] = df_test['title_text'].apply(preprocessor)\n",
        "porter = PorterStemmer()\n",
        "\n",
        "def tokenizer_porter(text):\n",
        "    return [porter.stem(word) for word in text.split()]\n",
        "\n"
      ],
      "metadata": {
        "id": "557RrZSzjIh8"
      },
      "execution_count": null,
      "outputs": []
    },
    {
      "cell_type": "code",
      "source": [
        "tfidf = TfidfVectorizer(strip_accents=None,\n",
        "                        lowercase=False,\n",
        "                        preprocessor=None,\n",
        "                        tokenizer=tokenizer_porter,\n",
        "                        use_idf=True,\n",
        "                        norm='l2',\n",
        "                        smooth_idf=True\n",
        "                       )\n",
        "X_data=np.concatenate((df['title_text'],df_test['title_text']),axis=0)\n",
        "tfidf.fit(X_data)\n",
        "X_train=tfidf.transform(df['title_text'])\n",
        "y_train = df['label'].values\n",
        "X_test= tfidf.transform(df_test['title_text'])\n",
        "y_test = df_test['label'].values\n",
        "#X_train, X_test, y_train, y_test = train_test_split(X_train, y_train, test_size=0.50, random_state=0)"
      ],
      "metadata": {
        "id": "fAz7Im8qfx-d",
        "colab": {
          "base_uri": "https://localhost:8080/"
        },
        "outputId": "10a7e178-43e5-4b12-ce3a-58e2b4ef8758"
      },
      "execution_count": null,
      "outputs": [
        {
          "output_type": "stream",
          "name": "stderr",
          "text": [
            "/usr/local/lib/python3.10/dist-packages/sklearn/feature_extraction/text.py:528: UserWarning: The parameter 'token_pattern' will not be used since 'tokenizer' is not None'\n",
            "  warnings.warn(\n"
          ]
        }
      ]
    },
    {
      "cell_type": "code",
      "source": [
        "\n",
        "\n",
        "# Using SVM as the classifier with a linear kernel and the regularization parameter C set to 1.\n",
        "import warnings\n",
        "warnings.filterwarnings(\"ignore\")\n",
        "clf = LogisticRegressionCV(cv=5, scoring='accuracy', random_state=0, n_jobs=-1, verbose=2, max_iter=300).fit(X_train, y_train)\n",
        "\n",
        "#Evaluate the performance.\n",
        "clf.score(X_test, y_test)\n",
        "y_pred = clf.predict(X_test)\n",
        "print(\"Accuracy with SVM: {}\".format(accuracy_score(y_test, y_pred)))\n",
        "print(classification_report(y_test, y_pred))\n",
        "\n",
        "binary_predictions = []\n",
        "\n",
        "for i in y_pred:\n",
        "    if i >= 0.5:\n",
        "        binary_predictions.append(1)\n",
        "    else:\n",
        "        binary_predictions.append(0)\n",
        "\n",
        "resdf = pd.DataFrame(binary_predictions, columns=['label'])\n",
        "# resdf.to_csv('lgvotkag.csv', index=False)\n",
        "# Generate confusion matrix\n",
        "confusion_mat = confusion_matrix(y_test, y_pred)\n",
        "\n",
        "print('Confusion matrix: ')\n",
        "print(confusion_mat)\n",
        "\n",
        "labels = ['True Neg','False Pos','False Neg','True Pos']\n",
        "categories = ['Fake', 'Real']\n",
        "\n",
        "make_confusion_matrix(confusion_mat, group_names=labels, categories=categories, cmap='Blues')"
      ],
      "metadata": {
        "colab": {
          "base_uri": "https://localhost:8080/",
          "height": 820
        },
        "id": "ri5mxvh0Pt0_",
        "outputId": "60e78a45-7390-4920-dd6f-f7c9da4d0389"
      },
      "execution_count": null,
      "outputs": [
        {
          "output_type": "stream",
          "name": "stderr",
          "text": [
            "[Parallel(n_jobs=-1)]: Using backend LokyBackend with 2 concurrent workers.\n",
            "[Parallel(n_jobs=-1)]: Done   5 out of   5 | elapsed: 11.3min remaining:    0.0s\n",
            "[Parallel(n_jobs=-1)]: Done   5 out of   5 | elapsed: 11.3min finished\n"
          ]
        },
        {
          "output_type": "stream",
          "name": "stdout",
          "text": [
            "Accuracy with SVM: 0.9356863839285714\n",
            "              precision    recall  f1-score   support\n",
            "\n",
            "         0.0       0.94      0.93      0.94      7324\n",
            "         1.0       0.93      0.94      0.93      7012\n",
            "\n",
            "    accuracy                           0.94     14336\n",
            "   macro avg       0.94      0.94      0.94     14336\n",
            "weighted avg       0.94      0.94      0.94     14336\n",
            "\n",
            "Confusion matrix: \n",
            "[[6844  480]\n",
            " [ 442 6570]]\n"
          ]
        },
        {
          "output_type": "display_data",
          "data": {
            "text/plain": [
              "<Figure size 800x600 with 2 Axes>"
            ],
            "image/png": "[encoded data removed]"
          },
          "metadata": {}
        }
      ]
    },
    {
      "cell_type": "code",
      "source": [
        "\n",
        "testmetakagsot=pd.DataFrame()\n"
      ],
      "metadata": {
        "id": "mM17wfhDBDAD"
      },
      "execution_count": null,
      "outputs": []
    },
    {
      "cell_type": "code",
      "source": [
        "\n",
        "# v=pd.read_csv('votkagsot.csv')\n",
        "testmetakagsot['lg']=resdf['label']\n",
        "# print(v)"
      ],
      "metadata": {
        "id": "cZbaExbkmOVC"
      },
      "execution_count": null,
      "outputs": []
    },
    {
      "cell_type": "code",
      "source": [
        "testmetakagsot.to_csv('testmetakagsot.csv',index=False)"
      ],
      "metadata": {
        "id": "sUn0hIjKbLIW"
      },
      "execution_count": null,
      "outputs": []
    },
    {
      "cell_type": "code",
      "source": [
        "print(testmetakagsot)"
      ],
      "metadata": {
        "colab": {
          "base_uri": "https://localhost:8080/"
        },
        "id": "KqZRGmoLLApA",
        "outputId": "45723e44-9c40-4c01-83f3-1c9de13b3716"
      },
      "execution_count": null,
      "outputs": [
        {
          "output_type": "stream",
          "name": "stdout",
          "text": [
            "       svm  nb  lg\n",
            "0        0   0   0\n",
            "1        1   0   1\n",
            "2        0   0   0\n",
            "3        1   1   1\n",
            "4        1   1   1\n",
            "...    ...  ..  ..\n",
            "14331    0   0   0\n",
            "14332    1   0   1\n",
            "14333    1   1   1\n",
            "14334    0   0   0\n",
            "14335    0   0   0\n",
            "\n",
            "[14336 rows x 3 columns]\n"
          ]
        }
      ]
    },
    {
      "cell_type": "code",
      "source": [
        "a=pd.read_csv('trainmetakagsot.csv')\n",
        "print(a)"
      ],
      "metadata": {
        "id": "p6_JkKy2RpXH",
        "colab": {
          "base_uri": "https://localhost:8080/"
        },
        "outputId": "f96c84b4-11ec-404c-a07d-2449c6a94ec8"
      },
      "execution_count": null,
      "outputs": [
        {
          "output_type": "stream",
          "name": "stdout",
          "text": [
            "       svm  nb  lg\n",
            "0        1   1   1\n",
            "1        1   1   1\n",
            "2        1   1   1\n",
            "3        1   1   1\n",
            "4        1   0   1\n",
            "...    ...  ..  ..\n",
            "17519    0   0   0\n",
            "17520    0   0   0\n",
            "17521    1   1   1\n",
            "17522    1   1   1\n",
            "17523    0   0   0\n",
            "\n",
            "[17524 rows x 3 columns]\n"
          ]
        }
      ]
    }
  ]
}