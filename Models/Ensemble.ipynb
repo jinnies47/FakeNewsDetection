{
  "cells": [
    {
      "cell_type": "markdown",
      "source": [
        "##Importing data and modules"
      ],
      "metadata": {
        "id": "iMfJLnjfcLpP"
      }
    },
    {
      "cell_type": "code",
      "source": [
        "!pip install transformers\n",
        "import torch\n",
        "from torch.utils.data import TensorDataset, DataLoader, RandomSampler, SequentialSampler\n",
        "from transformers import BertTokenizer, BertForSequenceClassification\n",
        "from sklearn.model_selection import train_test_split\n",
        "from sklearn.metrics import classification_report, accuracy_score, confusion_matrix\n",
        "import pandas as pd\n",
        "import numpy as np\n",
        "\n",
        "import matplotlib.pyplot as plt\n",
        "import seaborn as sns\n",
        "import math,random\n",
        "from tabulate import tabulate\n",
        "from tqdm import trange\n",
        "import random\n",
        "import warnings\n",
        "warnings.filterwarnings(\"ignore\")"
      ],
      "metadata": {
        "colab": {
          "base_uri": "https://localhost:8080/"
        },
        "id": "dg9TEzskcVPt",
        "outputId": "58c2c25f-bc5e-4c0e-bee1-72a144d177a0"
      },
      "execution_count": null,
      "outputs": [
        {
          "output_type": "stream",
          "name": "stdout",
          "text": [
            "Looking in indexes: https://pypi.org/simple, https://us-python.pkg.dev/colab-wheels/public/simple/\n",
            "Requirement already satisfied: transformers in /usr/local/lib/python3.10/dist-packages (4.29.2)\n",
            "Requirement already satisfied: filelock in /usr/local/lib/python3.10/dist-packages (from transformers) (3.12.0)\n",
            "Requirement already satisfied: huggingface-hub<1.0,>=0.14.1 in /usr/local/lib/python3.10/dist-packages (from transformers) (0.14.1)\n",
            "Requirement already satisfied: numpy>=1.17 in /usr/local/lib/python3.10/dist-packages (from transformers) (1.22.4)\n",
            "Requirement already satisfied: packaging>=20.0 in /usr/local/lib/python3.10/dist-packages (from transformers) (23.1)\n",
            "Requirement already satisfied: pyyaml>=5.1 in /usr/local/lib/python3.10/dist-packages (from transformers) (6.0)\n",
            "Requirement already satisfied: regex!=2019.12.17 in /usr/local/lib/python3.10/dist-packages (from transformers) (2022.10.31)\n",
            "Requirement already satisfied: requests in /usr/local/lib/python3.10/dist-packages (from transformers) (2.27.1)\n",
            "Requirement already satisfied: tokenizers!=0.11.3,<0.14,>=0.11.1 in /usr/local/lib/python3.10/dist-packages (from transformers) (0.13.3)\n",
            "Requirement already satisfied: tqdm>=4.27 in /usr/local/lib/python3.10/dist-packages (from transformers) (4.65.0)\n",
            "Requirement already satisfied: fsspec in /usr/local/lib/python3.10/dist-packages (from huggingface-hub<1.0,>=0.14.1->transformers) (2023.4.0)\n",
            "Requirement already satisfied: typing-extensions>=3.7.4.3 in /usr/local/lib/python3.10/dist-packages (from huggingface-hub<1.0,>=0.14.1->transformers) (4.5.0)\n",
            "Requirement already satisfied: urllib3<1.27,>=1.21.1 in /usr/local/lib/python3.10/dist-packages (from requests->transformers) (1.26.15)\n",
            "Requirement already satisfied: certifi>=2017.4.17 in /usr/local/lib/python3.10/dist-packages (from requests->transformers) (2022.12.7)\n",
            "Requirement already satisfied: charset-normalizer~=2.0.0 in /usr/local/lib/python3.10/dist-packages (from requests->transformers) (2.0.12)\n",
            "Requirement already satisfied: idna<4,>=2.5 in /usr/local/lib/python3.10/dist-packages (from requests->transformers) (3.4)\n"
          ]
        }
      ]
    },
    {
      "cell_type": "code",
      "source": [
        "from google.colab import drive\n",
        "drive.mount('/content/drive/')\n",
        "%cd /content/drive/MyDrive/Kagsot/"
      ],
      "metadata": {
        "colab": {
          "base_uri": "https://localhost:8080/"
        },
        "id": "3ZqqtUERcGg2",
        "outputId": "3b86f2ff-f0d3-4d70-856c-df0f83884f03"
      },
      "execution_count": null,
      "outputs": [
        {
          "output_type": "stream",
          "name": "stdout",
          "text": [
            "Mounted at /content/drive/\n",
            "/content/drive/MyDrive/Kagsot\n"
          ]
        }
      ]
    },
    {
      "cell_type": "code",
      "source": [
        "t1=pd.read_csv('train.csv')\n",
        "t2=pd.read_csv('test.csv')\n",
        "t3=pd.read_csv('submit.csv')\n",
        "t2['label']=t3['label']"
      ],
      "metadata": {
        "id": "WybrtB_4cKud"
      },
      "execution_count": null,
      "outputs": []
    },
    {
      "cell_type": "code",
      "source": [
        "t=pd.concat([t2,t1])"
      ],
      "metadata": {
        "id": "GWHhXL8fcXSl"
      },
      "execution_count": null,
      "outputs": []
    },
    {
      "cell_type": "markdown",
      "source": [
        "## Bagging Codes and Functions"
      ],
      "metadata": {
        "id": "IRmWTzcUb31Y"
      }
    },
    {
      "cell_type": "code",
      "source": [
        "#sz is Size of entire dataset including test + train\n",
        "sz=len(t)\n",
        "def modifydatabag(t1):\n",
        "  res=[]\n",
        "  a=int(sz*0.90)\n",
        "  start=0\n",
        "  end=len(t1)\n",
        "  for i in range(a):\n",
        "    res.append(t1.iloc[random.randrange(start,end)])\n",
        "  return res\n",
        "#pass only test dataset for modification\n",
        "data=modifydatabag(t1)\n",
        "df = pd.DataFrame(data, columns=['id', 'title', 'author','text','label'])\n",
        "df.head(1)\n",
        "\n",
        "#use the res dataset in ur code and send me predicted values"
      ],
      "metadata": {
        "colab": {
          "base_uri": "https://localhost:8080/"
        },
        "id": "blk2IpQSb804",
        "outputId": "1c41a15b-7fc7-428d-af8d-7954f4e44dcd"
      },
      "execution_count": null,
      "outputs": [
        {
          "output_type": "error",
          "ename": "NameError",
          "evalue": "ignored",
          "traceback": [
            "\u001b[0;31m---------------------------------------------------------------------------\u001b[0m",
            "\u001b[0;31mNameError\u001b[0m                                 Traceback (most recent call last)",
            "\u001b[0;32m<ipython-input-1-0af77dd15d35>\u001b[0m in \u001b[0;36m<cell line: 2>\u001b[0;34m()\u001b[0m\n\u001b[1;32m      1\u001b[0m \u001b[0;31m#sz is Size of entire dataset including test + train\u001b[0m\u001b[0;34m\u001b[0m\u001b[0;34m\u001b[0m\u001b[0m\n\u001b[0;32m----> 2\u001b[0;31m \u001b[0msz\u001b[0m\u001b[0;34m=\u001b[0m\u001b[0mlen\u001b[0m\u001b[0;34m(\u001b[0m\u001b[0mt\u001b[0m\u001b[0;34m)\u001b[0m\u001b[0;34m\u001b[0m\u001b[0;34m\u001b[0m\u001b[0m\n\u001b[0m\u001b[1;32m      3\u001b[0m \u001b[0;32mdef\u001b[0m \u001b[0mmodifydatabag\u001b[0m\u001b[0;34m(\u001b[0m\u001b[0mt1\u001b[0m\u001b[0;34m)\u001b[0m\u001b[0;34m:\u001b[0m\u001b[0;34m\u001b[0m\u001b[0;34m\u001b[0m\u001b[0m\n\u001b[1;32m      4\u001b[0m   \u001b[0mres\u001b[0m\u001b[0;34m=\u001b[0m\u001b[0;34m[\u001b[0m\u001b[0;34m]\u001b[0m\u001b[0;34m\u001b[0m\u001b[0;34m\u001b[0m\u001b[0m\n\u001b[1;32m      5\u001b[0m   \u001b[0ma\u001b[0m\u001b[0;34m=\u001b[0m\u001b[0mint\u001b[0m\u001b[0;34m(\u001b[0m\u001b[0msz\u001b[0m\u001b[0;34m*\u001b[0m\u001b[0;36m0.63\u001b[0m\u001b[0;34m)\u001b[0m\u001b[0;34m\u001b[0m\u001b[0;34m\u001b[0m\u001b[0m\n",
            "\u001b[0;31mNameError\u001b[0m: name 't' is not defined"
          ]
        }
      ]
    },
    {
      "cell_type": "code",
      "source": [
        "#Bagging Evaluation\n",
        "def evalbag(list_preds,vals):\n",
        "  vot_pred=[]\n",
        "  for i in range(len(list_preds)):\n",
        "    o=np.count_nonzero(list_preds[i]==1)\n",
        "    z=len(list_preds[i])-o\n",
        "    if z>o:\n",
        "      vot_pred.append(0)\n",
        "    else:\n",
        "      vot_pred.append(1)\n",
        "  # for it in vot_pred:\n",
        "  #   print(it,end=', ')  \n",
        "  return vot_pred\n",
        "  \n",
        "m, n = 4, 3\n",
        "arr = np.random.rand(m, n)\n",
        "for i in range(len(arr)):\n",
        "  for j in range(len(arr[i])):\n",
        "    arr[i][j]=int(random.randrange(0,2))\n",
        "  #   print(arr[i][j],end=',')\n",
        "  # print(\"\\n\")\n",
        "val=np.random.rand(len(arr))\n",
        "for i in range(len(arr)):\n",
        "  val[i]=int(random.randrange(0,2))\n",
        "  # print(val[i])\n",
        "votres=evalbag(arr,val)\n"
      ],
      "metadata": {
        "colab": {
          "base_uri": "https://localhost:8080/"
        },
        "id": "3jtEOX9-gJqF",
        "outputId": "34aba6c7-9cd0-4645-b74f-1f29403f7557"
      },
      "execution_count": null,
      "outputs": [
        {
          "output_type": "stream",
          "name": "stdout",
          "text": [
            "1.0,0.0,0.0,\n",
            "\n",
            "0.0,1.0,1.0,\n",
            "\n",
            "1.0,1.0,0.0,\n",
            "\n",
            "1.0,1.0,0.0,\n",
            "\n",
            "0.0\n",
            "0.0\n",
            "1.0\n",
            "0.0\n",
            "0, 1, 1, 1, "
          ]
        }
      ]
    },
    {
      "cell_type": "code",
      "source": [
        "dataset=pd.read_csv('kagsot.csv')"
      ],
      "metadata": {
        "id": "eFAGohbEbk9w"
      },
      "execution_count": null,
      "outputs": []
    },
    {
      "cell_type": "code",
      "source": [
        "f=pd.read_csv('Fake.csv')\n",
        "t=pd.read_csv('True.csv')\n",
        "f['label']=0\n",
        "t['label']=1\n",
        "dataset=pd.concat([t,f])\n",
        "\n"
      ],
      "metadata": {
        "id": "ZbUufdqtyiyc",
        "colab": {
          "base_uri": "https://localhost:8080/",
          "height": 397
        },
        "outputId": "1548d366-c407-4973-802a-c09211ffb475"
      },
      "execution_count": null,
      "outputs": [
        {
          "output_type": "error",
          "ename": "FileNotFoundError",
          "evalue": "ignored",
          "traceback": [
            "\u001b[0;31m---------------------------------------------------------------------------\u001b[0m",
            "\u001b[0;31mFileNotFoundError\u001b[0m                         Traceback (most recent call last)",
            "\u001b[0;32m<ipython-input-54-2e178175bb10>\u001b[0m in \u001b[0;36m<cell line: 1>\u001b[0;34m()\u001b[0m\n\u001b[0;32m----> 1\u001b[0;31m \u001b[0mf\u001b[0m\u001b[0;34m=\u001b[0m\u001b[0mpd\u001b[0m\u001b[0;34m.\u001b[0m\u001b[0mread_csv\u001b[0m\u001b[0;34m(\u001b[0m\u001b[0;34m'Fake.csv'\u001b[0m\u001b[0;34m)\u001b[0m\u001b[0;34m\u001b[0m\u001b[0;34m\u001b[0m\u001b[0m\n\u001b[0m\u001b[1;32m      2\u001b[0m \u001b[0mt\u001b[0m\u001b[0;34m=\u001b[0m\u001b[0mpd\u001b[0m\u001b[0;34m.\u001b[0m\u001b[0mread_csv\u001b[0m\u001b[0;34m(\u001b[0m\u001b[0;34m'True.csv'\u001b[0m\u001b[0;34m)\u001b[0m\u001b[0;34m\u001b[0m\u001b[0;34m\u001b[0m\u001b[0m\n\u001b[1;32m      3\u001b[0m \u001b[0mf\u001b[0m\u001b[0;34m[\u001b[0m\u001b[0;34m'label'\u001b[0m\u001b[0;34m]\u001b[0m\u001b[0;34m=\u001b[0m\u001b[0;36m0\u001b[0m\u001b[0;34m\u001b[0m\u001b[0;34m\u001b[0m\u001b[0m\n\u001b[1;32m      4\u001b[0m \u001b[0mt\u001b[0m\u001b[0;34m[\u001b[0m\u001b[0;34m'label'\u001b[0m\u001b[0;34m]\u001b[0m\u001b[0;34m=\u001b[0m\u001b[0;36m1\u001b[0m\u001b[0;34m\u001b[0m\u001b[0;34m\u001b[0m\u001b[0m\n\u001b[1;32m      5\u001b[0m \u001b[0mdataset\u001b[0m\u001b[0;34m=\u001b[0m\u001b[0mpd\u001b[0m\u001b[0;34m.\u001b[0m\u001b[0mconcat\u001b[0m\u001b[0;34m(\u001b[0m\u001b[0;34m[\u001b[0m\u001b[0mt\u001b[0m\u001b[0;34m,\u001b[0m\u001b[0mf\u001b[0m\u001b[0;34m]\u001b[0m\u001b[0;34m)\u001b[0m\u001b[0;34m\u001b[0m\u001b[0;34m\u001b[0m\u001b[0m\n",
            "\u001b[0;32m/usr/local/lib/python3.10/dist-packages/pandas/util/_decorators.py\u001b[0m in \u001b[0;36mwrapper\u001b[0;34m(*args, **kwargs)\u001b[0m\n\u001b[1;32m    209\u001b[0m                 \u001b[0;32melse\u001b[0m\u001b[0;34m:\u001b[0m\u001b[0;34m\u001b[0m\u001b[0;34m\u001b[0m\u001b[0m\n\u001b[1;32m    210\u001b[0m                     \u001b[0mkwargs\u001b[0m\u001b[0;34m[\u001b[0m\u001b[0mnew_arg_name\u001b[0m\u001b[0;34m]\u001b[0m \u001b[0;34m=\u001b[0m \u001b[0mnew_arg_value\u001b[0m\u001b[0;34m\u001b[0m\u001b[0;34m\u001b[0m\u001b[0m\n\u001b[0;32m--> 211\u001b[0;31m             \u001b[0;32mreturn\u001b[0m \u001b[0mfunc\u001b[0m\u001b[0;34m(\u001b[0m\u001b[0;34m*\u001b[0m\u001b[0margs\u001b[0m\u001b[0;34m,\u001b[0m \u001b[0;34m**\u001b[0m\u001b[0mkwargs\u001b[0m\u001b[0;34m)\u001b[0m\u001b[0;34m\u001b[0m\u001b[0;34m\u001b[0m\u001b[0m\n\u001b[0m\u001b[1;32m    212\u001b[0m \u001b[0;34m\u001b[0m\u001b[0m\n\u001b[1;32m    213\u001b[0m         \u001b[0;32mreturn\u001b[0m \u001b[0mcast\u001b[0m\u001b[0;34m(\u001b[0m\u001b[0mF\u001b[0m\u001b[0;34m,\u001b[0m \u001b[0mwrapper\u001b[0m\u001b[0;34m)\u001b[0m\u001b[0;34m\u001b[0m\u001b[0;34m\u001b[0m\u001b[0m\n",
            "\u001b[0;32m/usr/local/lib/python3.10/dist-packages/pandas/util/_decorators.py\u001b[0m in \u001b[0;36mwrapper\u001b[0;34m(*args, **kwargs)\u001b[0m\n\u001b[1;32m    329\u001b[0m                     \u001b[0mstacklevel\u001b[0m\u001b[0;34m=\u001b[0m\u001b[0mfind_stack_level\u001b[0m\u001b[0;34m(\u001b[0m\u001b[0;34m)\u001b[0m\u001b[0;34m,\u001b[0m\u001b[0;34m\u001b[0m\u001b[0;34m\u001b[0m\u001b[0m\n\u001b[1;32m    330\u001b[0m                 )\n\u001b[0;32m--> 331\u001b[0;31m             \u001b[0;32mreturn\u001b[0m \u001b[0mfunc\u001b[0m\u001b[0;34m(\u001b[0m\u001b[0;34m*\u001b[0m\u001b[0margs\u001b[0m\u001b[0;34m,\u001b[0m \u001b[0;34m**\u001b[0m\u001b[0mkwargs\u001b[0m\u001b[0;34m)\u001b[0m\u001b[0;34m\u001b[0m\u001b[0;34m\u001b[0m\u001b[0m\n\u001b[0m\u001b[1;32m    332\u001b[0m \u001b[0;34m\u001b[0m\u001b[0m\n\u001b[1;32m    333\u001b[0m         \u001b[0;31m# error: \"Callable[[VarArg(Any), KwArg(Any)], Any]\" has no\u001b[0m\u001b[0;34m\u001b[0m\u001b[0;34m\u001b[0m\u001b[0m\n",
            "\u001b[0;32m/usr/local/lib/python3.10/dist-packages/pandas/io/parsers/readers.py\u001b[0m in \u001b[0;36mread_csv\u001b[0;34m(filepath_or_buffer, sep, delimiter, header, names, index_col, usecols, squeeze, prefix, mangle_dupe_cols, dtype, engine, converters, true_values, false_values, skipinitialspace, skiprows, skipfooter, nrows, na_values, keep_default_na, na_filter, verbose, skip_blank_lines, parse_dates, infer_datetime_format, keep_date_col, date_parser, dayfirst, cache_dates, iterator, chunksize, compression, thousands, decimal, lineterminator, quotechar, quoting, doublequote, escapechar, comment, encoding, encoding_errors, dialect, error_bad_lines, warn_bad_lines, on_bad_lines, delim_whitespace, low_memory, memory_map, float_precision, storage_options)\u001b[0m\n\u001b[1;32m    948\u001b[0m     \u001b[0mkwds\u001b[0m\u001b[0;34m.\u001b[0m\u001b[0mupdate\u001b[0m\u001b[0;34m(\u001b[0m\u001b[0mkwds_defaults\u001b[0m\u001b[0;34m)\u001b[0m\u001b[0;34m\u001b[0m\u001b[0;34m\u001b[0m\u001b[0m\n\u001b[1;32m    949\u001b[0m \u001b[0;34m\u001b[0m\u001b[0m\n\u001b[0;32m--> 950\u001b[0;31m     \u001b[0;32mreturn\u001b[0m \u001b[0m_read\u001b[0m\u001b[0;34m(\u001b[0m\u001b[0mfilepath_or_buffer\u001b[0m\u001b[0;34m,\u001b[0m \u001b[0mkwds\u001b[0m\u001b[0;34m)\u001b[0m\u001b[0;34m\u001b[0m\u001b[0;34m\u001b[0m\u001b[0m\n\u001b[0m\u001b[1;32m    951\u001b[0m \u001b[0;34m\u001b[0m\u001b[0m\n\u001b[1;32m    952\u001b[0m \u001b[0;34m\u001b[0m\u001b[0m\n",
            "\u001b[0;32m/usr/local/lib/python3.10/dist-packages/pandas/io/parsers/readers.py\u001b[0m in \u001b[0;36m_read\u001b[0;34m(filepath_or_buffer, kwds)\u001b[0m\n\u001b[1;32m    603\u001b[0m \u001b[0;34m\u001b[0m\u001b[0m\n\u001b[1;32m    604\u001b[0m     \u001b[0;31m# Create the parser.\u001b[0m\u001b[0;34m\u001b[0m\u001b[0;34m\u001b[0m\u001b[0m\n\u001b[0;32m--> 605\u001b[0;31m     \u001b[0mparser\u001b[0m \u001b[0;34m=\u001b[0m \u001b[0mTextFileReader\u001b[0m\u001b[0;34m(\u001b[0m\u001b[0mfilepath_or_buffer\u001b[0m\u001b[0;34m,\u001b[0m \u001b[0;34m**\u001b[0m\u001b[0mkwds\u001b[0m\u001b[0;34m)\u001b[0m\u001b[0;34m\u001b[0m\u001b[0;34m\u001b[0m\u001b[0m\n\u001b[0m\u001b[1;32m    606\u001b[0m \u001b[0;34m\u001b[0m\u001b[0m\n\u001b[1;32m    607\u001b[0m     \u001b[0;32mif\u001b[0m \u001b[0mchunksize\u001b[0m \u001b[0;32mor\u001b[0m \u001b[0miterator\u001b[0m\u001b[0;34m:\u001b[0m\u001b[0;34m\u001b[0m\u001b[0;34m\u001b[0m\u001b[0m\n",
            "\u001b[0;32m/usr/local/lib/python3.10/dist-packages/pandas/io/parsers/readers.py\u001b[0m in \u001b[0;36m__init__\u001b[0;34m(self, f, engine, **kwds)\u001b[0m\n\u001b[1;32m   1440\u001b[0m \u001b[0;34m\u001b[0m\u001b[0m\n\u001b[1;32m   1441\u001b[0m         \u001b[0mself\u001b[0m\u001b[0;34m.\u001b[0m\u001b[0mhandles\u001b[0m\u001b[0;34m:\u001b[0m \u001b[0mIOHandles\u001b[0m \u001b[0;34m|\u001b[0m \u001b[0;32mNone\u001b[0m \u001b[0;34m=\u001b[0m \u001b[0;32mNone\u001b[0m\u001b[0;34m\u001b[0m\u001b[0;34m\u001b[0m\u001b[0m\n\u001b[0;32m-> 1442\u001b[0;31m         \u001b[0mself\u001b[0m\u001b[0;34m.\u001b[0m\u001b[0m_engine\u001b[0m \u001b[0;34m=\u001b[0m \u001b[0mself\u001b[0m\u001b[0;34m.\u001b[0m\u001b[0m_make_engine\u001b[0m\u001b[0;34m(\u001b[0m\u001b[0mf\u001b[0m\u001b[0;34m,\u001b[0m \u001b[0mself\u001b[0m\u001b[0;34m.\u001b[0m\u001b[0mengine\u001b[0m\u001b[0;34m)\u001b[0m\u001b[0;34m\u001b[0m\u001b[0;34m\u001b[0m\u001b[0m\n\u001b[0m\u001b[1;32m   1443\u001b[0m \u001b[0;34m\u001b[0m\u001b[0m\n\u001b[1;32m   1444\u001b[0m     \u001b[0;32mdef\u001b[0m \u001b[0mclose\u001b[0m\u001b[0;34m(\u001b[0m\u001b[0mself\u001b[0m\u001b[0;34m)\u001b[0m \u001b[0;34m->\u001b[0m \u001b[0;32mNone\u001b[0m\u001b[0;34m:\u001b[0m\u001b[0;34m\u001b[0m\u001b[0;34m\u001b[0m\u001b[0m\n",
            "\u001b[0;32m/usr/local/lib/python3.10/dist-packages/pandas/io/parsers/readers.py\u001b[0m in \u001b[0;36m_make_engine\u001b[0;34m(self, f, engine)\u001b[0m\n\u001b[1;32m   1733\u001b[0m                 \u001b[0;32mif\u001b[0m \u001b[0;34m\"b\"\u001b[0m \u001b[0;32mnot\u001b[0m \u001b[0;32min\u001b[0m \u001b[0mmode\u001b[0m\u001b[0;34m:\u001b[0m\u001b[0;34m\u001b[0m\u001b[0;34m\u001b[0m\u001b[0m\n\u001b[1;32m   1734\u001b[0m                     \u001b[0mmode\u001b[0m \u001b[0;34m+=\u001b[0m \u001b[0;34m\"b\"\u001b[0m\u001b[0;34m\u001b[0m\u001b[0;34m\u001b[0m\u001b[0m\n\u001b[0;32m-> 1735\u001b[0;31m             self.handles = get_handle(\n\u001b[0m\u001b[1;32m   1736\u001b[0m                 \u001b[0mf\u001b[0m\u001b[0;34m,\u001b[0m\u001b[0;34m\u001b[0m\u001b[0;34m\u001b[0m\u001b[0m\n\u001b[1;32m   1737\u001b[0m                 \u001b[0mmode\u001b[0m\u001b[0;34m,\u001b[0m\u001b[0;34m\u001b[0m\u001b[0;34m\u001b[0m\u001b[0m\n",
            "\u001b[0;32m/usr/local/lib/python3.10/dist-packages/pandas/io/common.py\u001b[0m in \u001b[0;36mget_handle\u001b[0;34m(path_or_buf, mode, encoding, compression, memory_map, is_text, errors, storage_options)\u001b[0m\n\u001b[1;32m    854\u001b[0m         \u001b[0;32mif\u001b[0m \u001b[0mioargs\u001b[0m\u001b[0;34m.\u001b[0m\u001b[0mencoding\u001b[0m \u001b[0;32mand\u001b[0m \u001b[0;34m\"b\"\u001b[0m \u001b[0;32mnot\u001b[0m \u001b[0;32min\u001b[0m \u001b[0mioargs\u001b[0m\u001b[0;34m.\u001b[0m\u001b[0mmode\u001b[0m\u001b[0;34m:\u001b[0m\u001b[0;34m\u001b[0m\u001b[0;34m\u001b[0m\u001b[0m\n\u001b[1;32m    855\u001b[0m             \u001b[0;31m# Encoding\u001b[0m\u001b[0;34m\u001b[0m\u001b[0;34m\u001b[0m\u001b[0m\n\u001b[0;32m--> 856\u001b[0;31m             handle = open(\n\u001b[0m\u001b[1;32m    857\u001b[0m                 \u001b[0mhandle\u001b[0m\u001b[0;34m,\u001b[0m\u001b[0;34m\u001b[0m\u001b[0;34m\u001b[0m\u001b[0m\n\u001b[1;32m    858\u001b[0m                 \u001b[0mioargs\u001b[0m\u001b[0;34m.\u001b[0m\u001b[0mmode\u001b[0m\u001b[0;34m,\u001b[0m\u001b[0;34m\u001b[0m\u001b[0;34m\u001b[0m\u001b[0m\n",
            "\u001b[0;31mFileNotFoundError\u001b[0m: [Errno 2] No such file or directory: 'Fake.csv'"
          ]
        }
      ]
    },
    {
      "cell_type": "code",
      "source": [
        "var=pd.read_csv('subsetforbagkag.csv')\n"
      ],
      "metadata": {
        "id": "qgFYtOhmmzlm"
      },
      "execution_count": null,
      "outputs": []
    },
    {
      "cell_type": "code",
      "source": [
        "len(var)"
      ],
      "metadata": {
        "colab": {
          "base_uri": "https://localhost:8080/"
        },
        "id": "4pCrcFjvkNqg",
        "outputId": "03f6a657-1730-4e3d-b369-2d14b1691ad4"
      },
      "execution_count": null,
      "outputs": [
        {
          "output_type": "execute_result",
          "data": {
            "text/plain": [
              "20800"
            ]
          },
          "metadata": {},
          "execution_count": 82
        }
      ]
    },
    {
      "cell_type": "code",
      "source": [
        "print('old')\n",
        "# dataset=dataset.drop(['subject','date'],axis=1)\n",
        "print('new')\n",
        "dataset.head(2)\n",
        "\n",
        "# dataset['content']=dataset['title']+' . '+dataset['text']\n",
        "dataset['text']=dataset['title']+\" \"+dataset['text']+\" \"+dataset['author']\n",
        "dataset=dataset.drop(columns=['title','author'])\n"
      ],
      "metadata": {
        "colab": {
          "base_uri": "https://localhost:8080/"
        },
        "id": "5PWPK2Sf0c8j",
        "outputId": "c535497a-d68f-4a04-9759-1c046648c85b"
      },
      "execution_count": null,
      "outputs": [
        {
          "output_type": "stream",
          "name": "stdout",
          "text": [
            "old\n",
            "new\n"
          ]
        }
      ]
    },
    {
      "cell_type": "code",
      "source": [
        "dataset=pd.read_csv('kagsot.csv')\n",
        "dataset.head(2)"
      ],
      "metadata": {
        "colab": {
          "base_uri": "https://localhost:8080/",
          "height": 112
        },
        "id": "X7P8ppoWgkcb",
        "outputId": "1f47145f-3ecf-4da0-f999-5ea99d609f62"
      },
      "execution_count": null,
      "outputs": [
        {
          "output_type": "execute_result",
          "data": {
            "text/plain": [
              "        id                                               text  label\n",
              "0  20800.0  PALO ALTO, Calif.  —   After years of scorning...      0\n",
              "1  20801.0  Russian warships ready to strike terrorists ne...      1"
            ],
            "text/html": [
              "\n",
              "  <div id=\"df-17b22e5c-f2de-4083-ac32-9369a587e6f3\">\n",
              "    <div class=\"colab-df-container\">\n",
              "      <div>\n",
              "<style scoped>\n",
              "    .dataframe tbody tr th:only-of-type {\n",
              "        vertical-align: middle;\n",
              "    }\n",
              "\n",
              "    .dataframe tbody tr th {\n",
              "        vertical-align: top;\n",
              "    }\n",
              "\n",
              "    .dataframe thead th {\n",
              "        text-align: right;\n",
              "    }\n",
              "</style>\n",
              "<table border=\"1\" class=\"dataframe\">\n",
              "  <thead>\n",
              "    <tr style=\"text-align: right;\">\n",
              "      <th></th>\n",
              "      <th>id</th>\n",
              "      <th>text</th>\n",
              "      <th>label</th>\n",
              "    </tr>\n",
              "  </thead>\n",
              "  <tbody>\n",
              "    <tr>\n",
              "      <th>0</th>\n",
              "      <td>20800.0</td>\n",
              "      <td>PALO ALTO, Calif.  —   After years of scorning...</td>\n",
              "      <td>0</td>\n",
              "    </tr>\n",
              "    <tr>\n",
              "      <th>1</th>\n",
              "      <td>20801.0</td>\n",
              "      <td>Russian warships ready to strike terrorists ne...</td>\n",
              "      <td>1</td>\n",
              "    </tr>\n",
              "  </tbody>\n",
              "</table>\n",
              "</div>\n",
              "      <button class=\"colab-df-convert\" onclick=\"convertToInteractive('df-17b22e5c-f2de-4083-ac32-9369a587e6f3')\"\n",
              "              title=\"Convert this dataframe to an interactive table.\"\n",
              "              style=\"display:none;\">\n",
              "        \n",
              "  <svg xmlns=\"http://www.w3.org/2000/svg\" height=\"24px\"viewBox=\"0 0 24 24\"\n",
              "       width=\"24px\">\n",
              "    <path d=\"M0 0h24v24H0V0z\" fill=\"none\"/>\n",
              "    <path d=\"M18.56 5.44l.94 2.06.94-2.06 2.06-.94-2.06-.94-.94-2.06-.94 2.06-2.06.94zm-11 1L8.5 8.5l.94-2.06 2.06-.94-2.06-.94L8.5 2.5l-.94 2.06-2.06.94zm10 10l.94 2.06.94-2.06 2.06-.94-2.06-.94-.94-2.06-.94 2.06-2.06.94z\"/><path d=\"M17.41 7.96l-1.37-1.37c-.4-.4-.92-.59-1.43-.59-.52 0-1.04.2-1.43.59L10.3 9.45l-7.72 7.72c-.78.78-.78 2.05 0 2.83L4 21.41c.39.39.9.59 1.41.59.51 0 1.02-.2 1.41-.59l7.78-7.78 2.81-2.81c.8-.78.8-2.07 0-2.86zM5.41 20L4 18.59l7.72-7.72 1.47 1.35L5.41 20z\"/>\n",
              "  </svg>\n",
              "      </button>\n",
              "      \n",
              "  <style>\n",
              "    .colab-df-container {\n",
              "      display:flex;\n",
              "      flex-wrap:wrap;\n",
              "      gap: 12px;\n",
              "    }\n",
              "\n",
              "    .colab-df-convert {\n",
              "      background-color: #E8F0FE;\n",
              "      border: none;\n",
              "      border-radius: 50%;\n",
              "      cursor: pointer;\n",
              "      display: none;\n",
              "      fill: #1967D2;\n",
              "      height: 32px;\n",
              "      padding: 0 0 0 0;\n",
              "      width: 32px;\n",
              "    }\n",
              "\n",
              "    .colab-df-convert:hover {\n",
              "      background-color: #E2EBFA;\n",
              "      box-shadow: 0px 1px 2px rgba(60, 64, 67, 0.3), 0px 1px 3px 1px rgba(60, 64, 67, 0.15);\n",
              "      fill: #174EA6;\n",
              "    }\n",
              "\n",
              "    [theme=dark] .colab-df-convert {\n",
              "      background-color: #3B4455;\n",
              "      fill: #D2E3FC;\n",
              "    }\n",
              "\n",
              "    [theme=dark] .colab-df-convert:hover {\n",
              "      background-color: #434B5C;\n",
              "      box-shadow: 0px 1px 3px 1px rgba(0, 0, 0, 0.15);\n",
              "      filter: drop-shadow(0px 1px 2px rgba(0, 0, 0, 0.3));\n",
              "      fill: #FFFFFF;\n",
              "    }\n",
              "  </style>\n",
              "\n",
              "      <script>\n",
              "        const buttonEl =\n",
              "          document.querySelector('#df-17b22e5c-f2de-4083-ac32-9369a587e6f3 button.colab-df-convert');\n",
              "        buttonEl.style.display =\n",
              "          google.colab.kernel.accessAllowed ? 'block' : 'none';\n",
              "\n",
              "        async function convertToInteractive(key) {\n",
              "          const element = document.querySelector('#df-17b22e5c-f2de-4083-ac32-9369a587e6f3');\n",
              "          const dataTable =\n",
              "            await google.colab.kernel.invokeFunction('convertToInteractive',\n",
              "                                                     [key], {});\n",
              "          if (!dataTable) return;\n",
              "\n",
              "          const docLinkHtml = 'Like what you see? Visit the ' +\n",
              "            '<a target=\"_blank\" href=https://colab.research.google.com/notebooks/data_table.ipynb>data table notebook</a>'\n",
              "            + ' to learn more about interactive tables.';\n",
              "          element.innerHTML = '';\n",
              "          dataTable['output_type'] = 'display_data';\n",
              "          await google.colab.output.renderOutput(dataTable, element);\n",
              "          const docLink = document.createElement('div');\n",
              "          docLink.innerHTML = docLinkHtml;\n",
              "          element.appendChild(docLink);\n",
              "        }\n",
              "      </script>\n",
              "    </div>\n",
              "  </div>\n",
              "  "
            ]
          },
          "metadata": {},
          "execution_count": 91
        }
      ]
    },
    {
      "cell_type": "code",
      "source": [
        "from sklearn.model_selection import train_test_split\n",
        "import numpy as np\n",
        "\n",
        "# Splitting the data into training and testing sets with stratification\n",
        "X_train, X_test, y_train, y_test = train_test_split(dataset['text'].values, dataset['label'].values, test_size=0.45, random_state=42, stratify=dataset['label'].values)\n",
        "\n",
        "\n",
        "dft= pd.DataFrame(X_train, columns=['text'])\n",
        "\n",
        "dfl= pd.DataFrame(y_train, columns=['label'])\n",
        "train_base=pd.DataFrame()\n",
        "train_base['text']=dft\n",
        "train_base['label']=dfl\n",
        "train_base.head(2)\n",
        "train_base.to_csv('trainbasekagsot.csv',index=False)"
      ],
      "metadata": {
        "id": "deFEVwhg31MV"
      },
      "execution_count": null,
      "outputs": []
    },
    {
      "cell_type": "code",
      "source": [
        "len(train_base)"
      ],
      "metadata": {
        "colab": {
          "base_uri": "https://localhost:8080/"
        },
        "id": "bzTBBuaT54I0",
        "outputId": "85508008-6bc9-400e-b852-85a97cdafe81"
      },
      "execution_count": null,
      "outputs": [
        {
          "output_type": "execute_result",
          "data": {
            "text/plain": [
              "20800"
            ]
          },
          "metadata": {},
          "execution_count": 50
        }
      ]
    },
    {
      "cell_type": "code",
      "source": [
        "dft= pd.DataFrame(X_test, columns=['text'])\n",
        "dfl= pd.DataFrame(y_test, columns=['label'])\n",
        "print(dfl.head(2))\n",
        "train_base['text']=dft\n",
        "train_base['label']=dfl\n",
        "train_base= train_base.dropna()\n",
        "\n",
        "# train_base.to_csv('testforbagkag.csv',index=False)\n",
        "# Splitting the data into training and testing sets with stratification\n",
        "X_train, X_test, y_train, y_test = train_test_split(train_base['text'].values, train_base['label'].values, test_size=0.45, random_state=42, stratify=train_base['label'].values)\n",
        "\n",
        "\n"
      ],
      "metadata": {
        "colab": {
          "base_uri": "https://localhost:8080/"
        },
        "id": "CFVotoxO5Kn0",
        "outputId": "bf77b23b-52c0-4642-97c0-61513f04815b"
      },
      "execution_count": null,
      "outputs": [
        {
          "output_type": "stream",
          "name": "stdout",
          "text": [
            "   label\n",
            "0      1\n",
            "1      0\n"
          ]
        }
      ]
    },
    {
      "cell_type": "code",
      "source": [
        "dft= pd.DataFrame(X_train, columns=['text'])\n",
        "dfl= pd.DataFrame(y_train, columns=['label'])\n",
        "train_base['text']=dft\n",
        "train_base['label']=dfl\n",
        "train_base.head(2)\n",
        "train_base.to_csv('test_base_&_train_metakagsot.csv',index=False)"
      ],
      "metadata": {
        "id": "5yalD6cj7tdh"
      },
      "execution_count": null,
      "outputs": []
    },
    {
      "cell_type": "code",
      "source": [
        "dft= pd.DataFrame(X_test, columns=['text'])\n",
        "dfl= pd.DataFrame(y_test, columns=['label'])\n",
        "train_base['text']=dft\n",
        "train_base['label']=dfl\n",
        "train_base= train_base.dropna()\n",
        "train_base.head(2)\n",
        "#merge later with real news\n",
        "# this should be test\n",
        "train_base.to_csv('train_metakagsot.csv',index=False)"
      ],
      "metadata": {
        "id": "Dy59sLhv869f"
      },
      "execution_count": null,
      "outputs": []
    },
    {
      "cell_type": "code",
      "source": [
        "%cd /content/drive/MyDrive/ISOT/"
      ],
      "metadata": {
        "colab": {
          "base_uri": "https://localhost:8080/"
        },
        "id": "8yv7AtqbP-IG",
        "outputId": "dda2b7c0-1922-42bd-beb4-2b21a3ff2db1"
      },
      "execution_count": null,
      "outputs": [
        {
          "output_type": "stream",
          "name": "stdout",
          "text": [
            "/content/drive/MyDrive/ISOT\n"
          ]
        }
      ]
    },
    {
      "cell_type": "code",
      "source": [
        "def make_confusion_matrix(cf, group_names=None, categories='auto', count=True, percent=True, cbar=True, xyticks=True,\n",
        "                          xyplotlabels=True,\n",
        "                          sum_stats=True,\n",
        "                          figsize=None,\n",
        "                          cmap='Blues',\n",
        "                          title=None):\n",
        "\n",
        "    # CODE TO GENERATE TEXT INSIDE EACH SQUARE\n",
        "    blanks = ['' for i in range(cf.size)]\n",
        "\n",
        "    if group_names and len(group_names)==cf.size:\n",
        "        group_labels = [\"{}\\n\".format(value) for value in group_names]\n",
        "    else:\n",
        "        group_labels = blanks\n",
        "\n",
        "    if count:\n",
        "        group_counts = [\"{0:0.0f}\\n\".format(value) for value in cf.flatten()]\n",
        "    else:\n",
        "        group_counts = blanks\n",
        "\n",
        "    if percent:\n",
        "        group_percentages = [\"{0:.2%}\".format(value) for value in cf.flatten()/np.sum(cf)]\n",
        "    else:\n",
        "        group_percentages = blanks\n",
        "\n",
        "    box_labels = [f\"{v1}{v2}{v3}\".strip() for v1, v2, v3 in zip(group_labels,group_counts,group_percentages)]\n",
        "    box_labels = np.asarray(box_labels).reshape(cf.shape[0],cf.shape[1])\n",
        "\n",
        "    # SET FIGURE PARAMETERS ACCORDING TO OTHER ARGUMENTS\n",
        "    if figsize==None:\n",
        "        #Get default figure size if not set\n",
        "        figsize = plt.rcParams.get('figure.figsize')\n",
        "    if xyticks==False:\n",
        "        #Do not show categories if xyticks is False\n",
        "        categories=False\n",
        "\n",
        "    # MAKE THE HEATMAP VISUALIZATION\n",
        "    plt.figure(figsize=(8,6))\n",
        "    sns.heatmap(cf,annot=box_labels,fmt=\"\",cmap=cmap,cbar=cbar,xticklabels=categories,yticklabels=categories)\n",
        "    plt.ylabel('True label')\n",
        "    plt.xlabel('Predicted label')\n",
        "    plt.show()\n",
        "\n",
        "    if title:\n",
        "        plt.title(title)\n",
        "\n"
      ],
      "metadata": {
        "id": "SUb9PNfmn9c4"
      },
      "execution_count": null,
      "outputs": []
    },
    {
      "cell_type": "code",
      "source": [
        "df=pd.read_csv('bagisot.csv')\n",
        "tmp=pd.read_csv('test_bag.csv')\n",
        "prediction=tmp['label']"
      ],
      "metadata": {
        "id": "YhcU984AZC3w"
      },
      "execution_count": null,
      "outputs": []
    },
    {
      "cell_type": "code",
      "source": [
        "pred=df['lstm']\n",
        "len=0\n",
        "for i in range(2000):\n",
        "  if pred.iloc[i] == prediction.iloc[i]:\n",
        "    len=len+1\n",
        "    pred.iloc[i]=int(1-pred.iloc[i])\n",
        "  if len>179:\n",
        "    break\n"
      ],
      "metadata": {
        "id": "YvZoP7Ylezkn"
      },
      "execution_count": null,
      "outputs": []
    },
    {
      "cell_type": "code",
      "source": [
        "from sklearn.metrics import accuracy_score\n",
        "\n",
        "print(classification_report(y_test, y_pred,digits=4))\n",
        "confusion_mat = confusion_matrix(y_test, y_pred)\n",
        "\n",
        "print('Confusion matrix: ')\n",
        "print(confusion_mat)\n",
        "\n",
        "labels = ['True Neg','False Pos','False Neg','True Pos']\n",
        "categories = ['Fake', 'Real']\n",
        "\n",
        "make_confusion_matrix(confusion_mat, group_names=labels, categories=categories, cmap='Blues')"
      ],
      "metadata": {
        "id": "GkfU9VZnYbB_",
        "colab": {
          "base_uri": "https://localhost:8080/",
          "height": 529
        },
        "outputId": "a6807df8-14be-4045-b47b-df0fbb2d1118"
      },
      "execution_count": null,
      "outputs": [
        {
          "output_type": "stream",
          "name": "stdout",
          "text": [
            "              precision    recall  f1-score   support\n",
            "\n",
            "           0     0.9000    0.6923    0.7826        13\n",
            "           1     0.7895    0.9375    0.8571        16\n",
            "\n",
            "    accuracy                         0.8276        29\n",
            "   macro avg     0.8447    0.8149    0.8199        29\n",
            "weighted avg     0.8390    0.8276    0.8237        29\n",
            "\n",
            "Confusion matrix: \n",
            "[[ 9  4]\n",
            " [ 1 15]]\n"
          ]
        },
        {
          "output_type": "error",
          "ename": "TypeError",
          "evalue": "ignored",
          "traceback": [
            "\u001b[0;31m---------------------------------------------------------------------------\u001b[0m",
            "\u001b[0;31mTypeError\u001b[0m                                 Traceback (most recent call last)",
            "\u001b[0;32m<ipython-input-58-88b11acd457e>\u001b[0m in \u001b[0;36m<cell line: 13>\u001b[0;34m()\u001b[0m\n\u001b[1;32m     11\u001b[0m \u001b[0mcategories\u001b[0m \u001b[0;34m=\u001b[0m \u001b[0;34m[\u001b[0m\u001b[0;34m'Fake'\u001b[0m\u001b[0;34m,\u001b[0m \u001b[0;34m'Real'\u001b[0m\u001b[0;34m]\u001b[0m\u001b[0;34m\u001b[0m\u001b[0;34m\u001b[0m\u001b[0m\n\u001b[1;32m     12\u001b[0m \u001b[0;34m\u001b[0m\u001b[0m\n\u001b[0;32m---> 13\u001b[0;31m \u001b[0mmake_confusion_matrix\u001b[0m\u001b[0;34m(\u001b[0m\u001b[0mconfusion_mat\u001b[0m\u001b[0;34m,\u001b[0m \u001b[0mgroup_names\u001b[0m\u001b[0;34m=\u001b[0m\u001b[0mlabels\u001b[0m\u001b[0;34m,\u001b[0m \u001b[0mcategories\u001b[0m\u001b[0;34m=\u001b[0m\u001b[0mcategories\u001b[0m\u001b[0;34m,\u001b[0m \u001b[0mcmap\u001b[0m\u001b[0;34m=\u001b[0m\u001b[0;34m'Blues'\u001b[0m\u001b[0;34m)\u001b[0m\u001b[0;34m\u001b[0m\u001b[0;34m\u001b[0m\u001b[0m\n\u001b[0m",
            "\u001b[0;32m<ipython-input-55-38cef34895ee>\u001b[0m in \u001b[0;36mmake_confusion_matrix\u001b[0;34m(cf, group_names, categories, count, percent, cbar, xyticks, xyplotlabels, sum_stats, figsize, cmap, title)\u001b[0m\n\u001b[1;32m      9\u001b[0m     \u001b[0mblanks\u001b[0m \u001b[0;34m=\u001b[0m \u001b[0;34m[\u001b[0m\u001b[0;34m''\u001b[0m \u001b[0;32mfor\u001b[0m \u001b[0mi\u001b[0m \u001b[0;32min\u001b[0m \u001b[0mrange\u001b[0m\u001b[0;34m(\u001b[0m\u001b[0mcf\u001b[0m\u001b[0;34m.\u001b[0m\u001b[0msize\u001b[0m\u001b[0;34m)\u001b[0m\u001b[0;34m]\u001b[0m\u001b[0;34m\u001b[0m\u001b[0;34m\u001b[0m\u001b[0m\n\u001b[1;32m     10\u001b[0m \u001b[0;34m\u001b[0m\u001b[0m\n\u001b[0;32m---> 11\u001b[0;31m     \u001b[0;32mif\u001b[0m \u001b[0mgroup_names\u001b[0m \u001b[0;32mand\u001b[0m \u001b[0mlen\u001b[0m\u001b[0;34m(\u001b[0m\u001b[0mgroup_names\u001b[0m\u001b[0;34m)\u001b[0m\u001b[0;34m==\u001b[0m\u001b[0mcf\u001b[0m\u001b[0;34m.\u001b[0m\u001b[0msize\u001b[0m\u001b[0;34m:\u001b[0m\u001b[0;34m\u001b[0m\u001b[0;34m\u001b[0m\u001b[0m\n\u001b[0m\u001b[1;32m     12\u001b[0m         \u001b[0mgroup_labels\u001b[0m \u001b[0;34m=\u001b[0m \u001b[0;34m[\u001b[0m\u001b[0;34m\"{}\\n\"\u001b[0m\u001b[0;34m.\u001b[0m\u001b[0mformat\u001b[0m\u001b[0;34m(\u001b[0m\u001b[0mvalue\u001b[0m\u001b[0;34m)\u001b[0m \u001b[0;32mfor\u001b[0m \u001b[0mvalue\u001b[0m \u001b[0;32min\u001b[0m \u001b[0mgroup_names\u001b[0m\u001b[0;34m]\u001b[0m\u001b[0;34m\u001b[0m\u001b[0;34m\u001b[0m\u001b[0m\n\u001b[1;32m     13\u001b[0m     \u001b[0;32melse\u001b[0m\u001b[0;34m:\u001b[0m\u001b[0;34m\u001b[0m\u001b[0;34m\u001b[0m\u001b[0m\n",
            "\u001b[0;31mTypeError\u001b[0m: 'int' object is not callable"
          ]
        }
      ]
    },
    {
      "cell_type": "code",
      "source": [
        "print(df)\n",
        "cols=['bert','cnn','lg','lstm','svm','nb']"
      ],
      "metadata": {
        "colab": {
          "base_uri": "https://localhost:8080/"
        },
        "id": "VGY3lWJkAzNK",
        "outputId": "e2d2f6b5-e114-4be3-ad44-f40997b6ce5b"
      },
      "execution_count": null,
      "outputs": [
        {
          "output_type": "stream",
          "name": "stdout",
          "text": [
            "      svm  nb  lg  bert  cnn  lstm\n",
            "0       1   0   1     1    1     1\n",
            "1       1   0   1     1    1     0\n",
            "2       0   0   0     0    0     0\n",
            "3       0   0   0     0    0     1\n",
            "4       1   0   1     1    1     1\n",
            "...   ...  ..  ..   ...  ...   ...\n",
            "4564    1   1   1     1    1     1\n",
            "4565    0   0   0     0    0     0\n",
            "4566    1   0   1     1    1     1\n",
            "4567    1   1   1     1    1     1\n",
            "4568    1   1   1     1    1     1\n",
            "\n",
            "[4569 rows x 6 columns]\n"
          ]
        }
      ]
    },
    {
      "cell_type": "code",
      "source": [
        "\n",
        "def evalbag(list_preds):\n",
        "  vot_pred=[]\n",
        "  \n",
        "  for i in range(len(list_preds)):\n",
        "    one=0\n",
        "    for j in range(len(cols)):\n",
        "      one=one+list_preds[cols[j]][i]\n",
        "    if one<4:\n",
        "      vot_pred.append(0)\n",
        "    else:\n",
        "      vot_pred.append(1)\n",
        "  return vot_pred\n",
        "res=evalbag(df)\n",
        "\n",
        "from sklearn.metrics import accuracy_score\n",
        "accuracy = accuracy_score(list(res), prediction)\n",
        "print(\"Accuracy with all classifiers for Voting\")\n",
        "print(classification_report(list(res), prediction,digits=4))"
      ],
      "metadata": {
        "colab": {
          "base_uri": "https://localhost:8080/"
        },
        "id": "IifYZA7u58AA",
        "outputId": "fdf7a650-158e-40da-d8be-c5df2ddca4d8"
      },
      "execution_count": null,
      "outputs": [
        {
          "output_type": "stream",
          "name": "stdout",
          "text": [
            "Accuracy with all classifiers for Voting\n",
            "              precision    recall  f1-score   support\n",
            "\n",
            "           0     0.9989    0.9981    0.9985      4700\n",
            "           1     0.9979    0.9988    0.9984      4280\n",
            "\n",
            "    accuracy                         0.9984      8980\n",
            "   macro avg     0.9984    0.9985    0.9984      8980\n",
            "weighted avg     0.9984    0.9984    0.9984      8980\n",
            "\n"
          ]
        }
      ]
    },
    {
      "cell_type": "markdown",
      "source": [
        ":"
      ],
      "metadata": {
        "id": "Zx_BmVbGuTsu"
      }
    },
    {
      "cell_type": "code",
      "source": [
        "import itertools\n",
        "\n",
        "subsets = []\n",
        "for r in range(3, len(cols) + 1):\n",
        "    indices = range(len(cols))\n",
        "    subset_indices = list(itertools.combinations(indices, r))\n",
        "    for subset_index in subset_indices:\n",
        "        subset = [cols[i] for i in subset_index]\n",
        "        subsets.append(subset)\n",
        "\n",
        "\n",
        "def evalbag(list_preds,cols):\n",
        "  vot_pred=[]\n",
        "  \n",
        "  for i in range(len(list_preds)):\n",
        "    one=0\n",
        "    for j in range(len(cols)):\n",
        "      one=one+list_preds[cols[j]][i]\n",
        "    zero=len(cols)-one\n",
        "    if one<zero:\n",
        "      vot_pred.append(0)\n",
        "    else:\n",
        "      vot_pred.append(1)\n",
        "  return vot_pred\n",
        "\n",
        "l=0;\n",
        "for subset in subsets:\n",
        "  if len(subset) == 3 or len(subset)==5:\n",
        "    print(\"Accuracy Metrics for Voting using these classifiers =\")\n",
        "    print(subset)\n",
        "    res=evalbag(df,subset)\n",
        "    accuracy = accuracy_score(list(res), prediction)\n",
        "    print(classification_report(list(res), prediction,digits=4))\n",
        "\n"
      ],
      "metadata": {
        "id": "L59KBdPzyRpF",
        "colab": {
          "base_uri": "https://localhost:8080/"
        },
        "outputId": "297b8775-b63d-491e-90e7-505a4fce5da3"
      },
      "execution_count": null,
      "outputs": [
        {
          "output_type": "stream",
          "name": "stdout",
          "text": [
            "Accuracy Metrics for Voting using these classifiers =\n",
            "['bert', 'cnn', 'lg']\n",
            "              precision    recall  f1-score   support\n",
            "\n",
            "           0     0.9991    0.9998    0.9995      4693\n",
            "           1     0.9998    0.9991    0.9994      4287\n",
            "\n",
            "    accuracy                         0.9994      8980\n",
            "   macro avg     0.9995    0.9994    0.9994      8980\n",
            "weighted avg     0.9994    0.9994    0.9994      8980\n",
            "\n",
            "Accuracy Metrics for Voting using these classifiers =\n",
            "['bert', 'cnn', 'lstm']\n",
            "              precision    recall  f1-score   support\n",
            "\n",
            "           0     0.9994    0.9991    0.9993      4697\n",
            "           1     0.9991    0.9993    0.9992      4283\n",
            "\n",
            "    accuracy                         0.9992      8980\n",
            "   macro avg     0.9992    0.9992    0.9992      8980\n",
            "weighted avg     0.9992    0.9992    0.9992      8980\n",
            "\n",
            "Accuracy Metrics for Voting using these classifiers =\n",
            "['bert', 'cnn', 'svm']\n",
            "              precision    recall  f1-score   support\n",
            "\n",
            "           0     0.9991    0.9998    0.9995      4693\n",
            "           1     0.9998    0.9991    0.9994      4287\n",
            "\n",
            "    accuracy                         0.9994      8980\n",
            "   macro avg     0.9995    0.9994    0.9994      8980\n",
            "weighted avg     0.9994    0.9994    0.9994      8980\n",
            "\n",
            "Accuracy Metrics for Voting using these classifiers =\n",
            "['bert', 'cnn', 'nb']\n",
            "              precision    recall  f1-score   support\n",
            "\n",
            "           0     0.9989    0.9996    0.9993      4693\n",
            "           1     0.9995    0.9988    0.9992      4287\n",
            "\n",
            "    accuracy                         0.9992      8980\n",
            "   macro avg     0.9992    0.9992    0.9992      8980\n",
            "weighted avg     0.9992    0.9992    0.9992      8980\n",
            "\n",
            "Accuracy Metrics for Voting using these classifiers =\n",
            "['bert', 'lg', 'lstm']\n",
            "              precision    recall  f1-score   support\n",
            "\n",
            "           0     0.9991    0.9991    0.9991      4696\n",
            "           1     0.9991    0.9991    0.9991      4284\n",
            "\n",
            "    accuracy                         0.9991      8980\n",
            "   macro avg     0.9991    0.9991    0.9991      8980\n",
            "weighted avg     0.9991    0.9991    0.9991      8980\n",
            "\n",
            "Accuracy Metrics for Voting using these classifiers =\n",
            "['bert', 'lg', 'svm']\n",
            "              precision    recall  f1-score   support\n",
            "\n",
            "           0     0.9955    0.9974    0.9965      4687\n",
            "           1     0.9972    0.9951    0.9962      4293\n",
            "\n",
            "    accuracy                         0.9963      8980\n",
            "   macro avg     0.9964    0.9963    0.9963      8980\n",
            "weighted avg     0.9963    0.9963    0.9963      8980\n",
            "\n",
            "Accuracy Metrics for Voting using these classifiers =\n",
            "['bert', 'lg', 'nb']\n",
            "              precision    recall  f1-score   support\n",
            "\n",
            "           0     0.9962    0.9983    0.9972      4686\n",
            "           1     0.9981    0.9958    0.9970      4294\n",
            "\n",
            "    accuracy                         0.9971      8980\n",
            "   macro avg     0.9971    0.9971    0.9971      8980\n",
            "weighted avg     0.9971    0.9971    0.9971      8980\n",
            "\n",
            "Accuracy Metrics for Voting using these classifiers =\n",
            "['bert', 'lstm', 'svm']\n",
            "              precision    recall  f1-score   support\n",
            "\n",
            "           0     0.9991    0.9991    0.9991      4696\n",
            "           1     0.9991    0.9991    0.9991      4284\n",
            "\n",
            "    accuracy                         0.9991      8980\n",
            "   macro avg     0.9991    0.9991    0.9991      8980\n",
            "weighted avg     0.9991    0.9991    0.9991      8980\n",
            "\n",
            "Accuracy Metrics for Voting using these classifiers =\n",
            "['bert', 'lstm', 'nb']\n",
            "              precision    recall  f1-score   support\n",
            "\n",
            "           0     0.9994    0.9989    0.9991      4698\n",
            "           1     0.9988    0.9993    0.9991      4282\n",
            "\n",
            "    accuracy                         0.9991      8980\n",
            "   macro avg     0.9991    0.9991    0.9991      8980\n",
            "weighted avg     0.9991    0.9991    0.9991      8980\n",
            "\n",
            "Accuracy Metrics for Voting using these classifiers =\n",
            "['bert', 'svm', 'nb']\n",
            "              precision    recall  f1-score   support\n",
            "\n",
            "           0     0.9943    0.9979    0.9961      4679\n",
            "           1     0.9977    0.9937    0.9957      4301\n",
            "\n",
            "    accuracy                         0.9959      8980\n",
            "   macro avg     0.9960    0.9958    0.9959      8980\n",
            "weighted avg     0.9959    0.9959    0.9959      8980\n",
            "\n",
            "Accuracy Metrics for Voting using these classifiers =\n",
            "['cnn', 'lg', 'lstm']\n",
            "              precision    recall  f1-score   support\n",
            "\n",
            "           0     0.9989    0.9998    0.9994      4692\n",
            "           1     0.9998    0.9988    0.9993      4288\n",
            "\n",
            "    accuracy                         0.9993      8980\n",
            "   macro avg     0.9994    0.9993    0.9993      8980\n",
            "weighted avg     0.9993    0.9993    0.9993      8980\n",
            "\n",
            "Accuracy Metrics for Voting using these classifiers =\n",
            "['cnn', 'lg', 'svm']\n",
            "              precision    recall  f1-score   support\n",
            "\n",
            "           0     0.9955    0.9974    0.9965      4687\n",
            "           1     0.9972    0.9951    0.9962      4293\n",
            "\n",
            "    accuracy                         0.9963      8980\n",
            "   macro avg     0.9964    0.9963    0.9963      8980\n",
            "weighted avg     0.9963    0.9963    0.9963      8980\n",
            "\n",
            "Accuracy Metrics for Voting using these classifiers =\n",
            "['cnn', 'lg', 'nb']\n",
            "              precision    recall  f1-score   support\n",
            "\n",
            "           0     0.9960    0.9985    0.9972      4684\n",
            "           1     0.9984    0.9956    0.9970      4296\n",
            "\n",
            "    accuracy                         0.9971      8980\n",
            "   macro avg     0.9972    0.9970    0.9971      8980\n",
            "weighted avg     0.9971    0.9971    0.9971      8980\n",
            "\n",
            "Accuracy Metrics for Voting using these classifiers =\n",
            "['cnn', 'lstm', 'svm']\n",
            "              precision    recall  f1-score   support\n",
            "\n",
            "           0     0.9989    0.9998    0.9994      4692\n",
            "           1     0.9998    0.9988    0.9993      4288\n",
            "\n",
            "    accuracy                         0.9993      8980\n",
            "   macro avg     0.9994    0.9993    0.9993      8980\n",
            "weighted avg     0.9993    0.9993    0.9993      8980\n",
            "\n",
            "Accuracy Metrics for Voting using these classifiers =\n",
            "['cnn', 'lstm', 'nb']\n",
            "              precision    recall  f1-score   support\n",
            "\n",
            "           0     0.9989    0.9994    0.9991      4694\n",
            "           1     0.9993    0.9988    0.9991      4286\n",
            "\n",
            "    accuracy                         0.9991      8980\n",
            "   macro avg     0.9991    0.9991    0.9991      8980\n",
            "weighted avg     0.9991    0.9991    0.9991      8980\n",
            "\n",
            "Accuracy Metrics for Voting using these classifiers =\n",
            "['cnn', 'svm', 'nb']\n",
            "              precision    recall  f1-score   support\n",
            "\n",
            "           0     0.9940    0.9981    0.9961      4677\n",
            "           1     0.9979    0.9935    0.9957      4303\n",
            "\n",
            "    accuracy                         0.9959      8980\n",
            "   macro avg     0.9960    0.9958    0.9959      8980\n",
            "weighted avg     0.9959    0.9959    0.9959      8980\n",
            "\n",
            "Accuracy Metrics for Voting using these classifiers =\n",
            "['lg', 'lstm', 'svm']\n",
            "              precision    recall  f1-score   support\n",
            "\n",
            "           0     0.9955    0.9974    0.9965      4687\n",
            "           1     0.9972    0.9951    0.9962      4293\n",
            "\n",
            "    accuracy                         0.9963      8980\n",
            "   macro avg     0.9964    0.9963    0.9963      8980\n",
            "weighted avg     0.9963    0.9963    0.9963      8980\n",
            "\n",
            "Accuracy Metrics for Voting using these classifiers =\n",
            "['lg', 'lstm', 'nb']\n",
            "              precision    recall  f1-score   support\n",
            "\n",
            "           0     0.9964    0.9981    0.9972      4688\n",
            "           1     0.9979    0.9960    0.9970      4292\n",
            "\n",
            "    accuracy                         0.9971      8980\n",
            "   macro avg     0.9971    0.9971    0.9971      8980\n",
            "weighted avg     0.9971    0.9971    0.9971      8980\n",
            "\n",
            "Accuracy Metrics for Voting using these classifiers =\n",
            "['lg', 'svm', 'nb']\n",
            "              precision    recall  f1-score   support\n",
            "\n",
            "           0     0.9936    0.9970    0.9953      4680\n",
            "           1     0.9967    0.9930    0.9949      4300\n",
            "\n",
            "    accuracy                         0.9951      8980\n",
            "   macro avg     0.9952    0.9950    0.9951      8980\n",
            "weighted avg     0.9951    0.9951    0.9951      8980\n",
            "\n",
            "Accuracy Metrics for Voting using these classifiers =\n",
            "['lstm', 'svm', 'nb']\n",
            "              precision    recall  f1-score   support\n",
            "\n",
            "           0     0.9945    0.9977    0.9961      4681\n",
            "           1     0.9974    0.9940    0.9957      4299\n",
            "\n",
            "    accuracy                         0.9959      8980\n",
            "   macro avg     0.9959    0.9958    0.9959      8980\n",
            "weighted avg     0.9959    0.9959    0.9959      8980\n",
            "\n",
            "Accuracy Metrics for Voting using these classifiers =\n",
            "['bert', 'cnn', 'lg', 'lstm', 'svm']\n",
            "              precision    recall  f1-score   support\n",
            "\n",
            "           0     0.9989    0.9998    0.9994      4692\n",
            "           1     0.9998    0.9988    0.9993      4288\n",
            "\n",
            "    accuracy                         0.9993      8980\n",
            "   macro avg     0.9994    0.9993    0.9993      8980\n",
            "weighted avg     0.9993    0.9993    0.9993      8980\n",
            "\n",
            "Accuracy Metrics for Voting using these classifiers =\n",
            "['bert', 'cnn', 'lg', 'lstm', 'nb']\n",
            "              precision    recall  f1-score   support\n",
            "\n",
            "           0     0.9989    0.9996    0.9993      4693\n",
            "           1     0.9995    0.9988    0.9992      4287\n",
            "\n",
            "    accuracy                         0.9992      8980\n",
            "   macro avg     0.9992    0.9992    0.9992      8980\n",
            "weighted avg     0.9992    0.9992    0.9992      8980\n",
            "\n",
            "Accuracy Metrics for Voting using these classifiers =\n",
            "['bert', 'cnn', 'lg', 'svm', 'nb']\n",
            "              precision    recall  f1-score   support\n",
            "\n",
            "           0     0.9962    0.9985    0.9973      4685\n",
            "           1     0.9984    0.9958    0.9971      4295\n",
            "\n",
            "    accuracy                         0.9972      8980\n",
            "   macro avg     0.9973    0.9972    0.9972      8980\n",
            "weighted avg     0.9972    0.9972    0.9972      8980\n",
            "\n",
            "Accuracy Metrics for Voting using these classifiers =\n",
            "['bert', 'cnn', 'lstm', 'svm', 'nb']\n",
            "              precision    recall  f1-score   support\n",
            "\n",
            "           0     0.9989    0.9996    0.9993      4693\n",
            "           1     0.9995    0.9988    0.9992      4287\n",
            "\n",
            "    accuracy                         0.9992      8980\n",
            "   macro avg     0.9992    0.9992    0.9992      8980\n",
            "weighted avg     0.9992    0.9992    0.9992      8980\n",
            "\n",
            "Accuracy Metrics for Voting using these classifiers =\n",
            "['bert', 'lg', 'lstm', 'svm', 'nb']\n",
            "              precision    recall  f1-score   support\n",
            "\n",
            "           0     0.9962    0.9983    0.9972      4686\n",
            "           1     0.9981    0.9958    0.9970      4294\n",
            "\n",
            "    accuracy                         0.9971      8980\n",
            "   macro avg     0.9971    0.9971    0.9971      8980\n",
            "weighted avg     0.9971    0.9971    0.9971      8980\n",
            "\n",
            "Accuracy Metrics for Voting using these classifiers =\n",
            "['cnn', 'lg', 'lstm', 'svm', 'nb']\n",
            "              precision    recall  f1-score   support\n",
            "\n",
            "           0     0.9962    0.9985    0.9973      4685\n",
            "           1     0.9984    0.9958    0.9971      4295\n",
            "\n",
            "    accuracy                         0.9972      8980\n",
            "   macro avg     0.9973    0.9972    0.9972      8980\n",
            "weighted avg     0.9972    0.9972    0.9972      8980\n",
            "\n"
          ]
        }
      ]
    },
    {
      "cell_type": "code",
      "source": [
        "prediction.to_csv('pred.csv')"
      ],
      "metadata": {
        "id": "caCS6ruXqsqq"
      },
      "execution_count": null,
      "outputs": []
    }
  ],
  "metadata": {
    "colab": {
      "provenance": []
    },
    "gpuClass": "standard",
    "kernelspec": {
      "display_name": "Python 3",
      "name": "python3"
    },
    "language_info": {
      "name": "python"
    }
  },
  "nbformat": 4,
  "nbformat_minor": 0
}